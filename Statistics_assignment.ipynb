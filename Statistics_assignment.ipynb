{
  "nbformat": 4,
  "nbformat_minor": 0,
  "metadata": {
    "colab": {
      "provenance": []
    },
    "kernelspec": {
      "name": "python3",
      "display_name": "Python 3"
    },
    "language_info": {
      "name": "python"
    }
  },
  "cells": [
    {
      "cell_type": "code",
      "execution_count": null,
      "metadata": {
        "id": "OuQKA_cRg5LF"
      },
      "outputs": [],
      "source": [
        "#STATISTICS\n",
        "import numpy as np\n",
        "import random\n",
        "import statistics\n",
        "import math"
      ]
    },
    {
      "cell_type": "code",
      "source": [
        "#1.Q= Generate a list of 100 integers containing values between 90 to 130 and store it in the variable `int_list`.After generating the list, find the following:\n",
        "import random\n",
        "import statistics\n",
        "int_list = ([random.randint(90, 130) for _ in range(100)])\n",
        "int_list\n",
        "\n",
        "\n",
        "\n"
      ],
      "metadata": {
        "colab": {
          "base_uri": "https://localhost:8080/"
        },
        "id": "_t78wSzjhJqM",
        "outputId": "432a1543-0ac2-4791-e316-a3c32fc54aa2"
      },
      "execution_count": null,
      "outputs": [
        {
          "output_type": "execute_result",
          "data": {
            "text/plain": [
              "[127,\n",
              " 104,\n",
              " 107,\n",
              " 119,\n",
              " 103,\n",
              " 118,\n",
              " 106,\n",
              " 127,\n",
              " 98,\n",
              " 102,\n",
              " 99,\n",
              " 99,\n",
              " 119,\n",
              " 123,\n",
              " 129,\n",
              " 96,\n",
              " 125,\n",
              " 106,\n",
              " 110,\n",
              " 122,\n",
              " 112,\n",
              " 105,\n",
              " 103,\n",
              " 106,\n",
              " 122,\n",
              " 119,\n",
              " 96,\n",
              " 127,\n",
              " 115,\n",
              " 91,\n",
              " 116,\n",
              " 114,\n",
              " 130,\n",
              " 126,\n",
              " 118,\n",
              " 127,\n",
              " 119,\n",
              " 126,\n",
              " 111,\n",
              " 93,\n",
              " 113,\n",
              " 117,\n",
              " 125,\n",
              " 116,\n",
              " 125,\n",
              " 105,\n",
              " 121,\n",
              " 105,\n",
              " 123,\n",
              " 120,\n",
              " 97,\n",
              " 124,\n",
              " 92,\n",
              " 121,\n",
              " 119,\n",
              " 113,\n",
              " 92,\n",
              " 128,\n",
              " 92,\n",
              " 101,\n",
              " 99,\n",
              " 93,\n",
              " 130,\n",
              " 115,\n",
              " 106,\n",
              " 98,\n",
              " 118,\n",
              " 105,\n",
              " 119,\n",
              " 120,\n",
              " 114,\n",
              " 127,\n",
              " 99,\n",
              " 122,\n",
              " 104,\n",
              " 115,\n",
              " 121,\n",
              " 118,\n",
              " 91,\n",
              " 126,\n",
              " 117,\n",
              " 102,\n",
              " 108,\n",
              " 115,\n",
              " 91,\n",
              " 100,\n",
              " 109,\n",
              " 123,\n",
              " 103,\n",
              " 118,\n",
              " 117,\n",
              " 102,\n",
              " 119,\n",
              " 111,\n",
              " 116,\n",
              " 96,\n",
              " 118,\n",
              " 123,\n",
              " 100,\n",
              " 116]"
            ]
          },
          "metadata": {},
          "execution_count": 24
        }
      ]
    },
    {
      "cell_type": "code",
      "source": [
        "# (i) Write a Python function to calculate the mean of a given list of numbers.Create a function to find the median of a list of numbers.\n",
        "# Function to calculate the mean of a given list of numbers\n",
        "def calculate_mean(numbers):\n",
        "    return sum(numbers) / len(numbers)\n",
        "\n",
        "\n",
        "# Calculate the mean\n",
        "mean = calculate_mean(int_list)\n",
        "mean\n"
      ],
      "metadata": {
        "colab": {
          "base_uri": "https://localhost:8080/"
        },
        "id": "iMG6jWufh0Jd",
        "outputId": "313a01b2-c24c-4a71-80f9-db539e84cb1d"
      },
      "execution_count": null,
      "outputs": [
        {
          "output_type": "execute_result",
          "data": {
            "text/plain": [
              "108.24"
            ]
          },
          "metadata": {},
          "execution_count": 20
        }
      ]
    },
    {
      "cell_type": "code",
      "source": [
        "# Function to find the median of a list of numbers\n",
        "def calculate_median(numbers):\n",
        "    sorted_numbers = sorted(numbers)\n",
        "    n = len(sorted_numbers)\n",
        "    if n % 2 == 0:\n",
        "        median = (sorted_numbers[n // 2 - 1] + sorted_numbers[n // 2]) / 2\n",
        "    else:\n",
        "        median = sorted_numbers[n // 2]\n",
        "    return median\n",
        "median=calculate_median(int_list)\n",
        "median"
      ],
      "metadata": {
        "colab": {
          "base_uri": "https://localhost:8080/"
        },
        "id": "Nden5wl4js9b",
        "outputId": "238384e3-20c3-4622-8a82-c67f09218037"
      },
      "execution_count": null,
      "outputs": [
        {
          "output_type": "execute_result",
          "data": {
            "text/plain": [
              "107.5"
            ]
          },
          "metadata": {},
          "execution_count": 21
        }
      ]
    },
    {
      "cell_type": "code",
      "source": [
        "#  (ii) Develop a program to compute the mode of a list of integers.\n",
        "from collections import Counter\n",
        "\n",
        "# Function to compute the mode of a list of integers\n",
        "def calculate_mode(numbers):\n",
        "    count = Counter(numbers)\n",
        "    max_frequency = max(count.values())\n",
        "    modes = [num for num, freq in count.items() if freq == max_frequency]\n",
        "    return modes\n",
        "\n",
        "# Calculate the mode of the generated list\n",
        "mode = calculate_mode(int_list)\n",
        "mode\n"
      ],
      "metadata": {
        "colab": {
          "base_uri": "https://localhost:8080/"
        },
        "id": "Zcrl8OPzke3Y",
        "outputId": "84be1d9e-c0d0-4609-bfa8-cadfd61b6862"
      },
      "execution_count": null,
      "outputs": [
        {
          "output_type": "execute_result",
          "data": {
            "text/plain": [
              "[111, 92]"
            ]
          },
          "metadata": {},
          "execution_count": 22
        }
      ]
    },
    {
      "cell_type": "code",
      "source": [
        "# (iii) Implement a function to calculate the weighted mean of a list of values and their corresponding weights.\n",
        "def calculate_weighted_mean(values, weights):\n",
        "    weighted_sum = sum(value * weight for value, weight in zip(values, weights))\n",
        "    total_weights = sum(weights)\n",
        "    return weighted_sum / total_weights\n",
        "\n",
        "weights = [random.randint(1, 10) for _ in range(len(int_list))]\n",
        "\n",
        "\n",
        "weighted= calculate_weighted_mean(int_list, weights)\n",
        "\n",
        "print('weighted',weighted)\n",
        "\n"
      ],
      "metadata": {
        "colab": {
          "base_uri": "https://localhost:8080/"
        },
        "id": "IDNQrEUglAjW",
        "outputId": "ed081dcc-b354-4ac5-ac2b-93343e4fd331"
      },
      "execution_count": null,
      "outputs": [
        {
          "output_type": "stream",
          "name": "stdout",
          "text": [
            "weighted 109.06545454545454\n"
          ]
        }
      ]
    },
    {
      "cell_type": "code",
      "source": [
        "# (iv) Write a Python function to find the geometric mean of a list of positive numbers.\n",
        "def calculate_geometric_mean(numbers):\n",
        "    product = 1\n",
        "    for num in numbers:\n",
        "        product *= num\n",
        "    return product ** (1 / len(numbers))\n",
        "\n",
        "geometric_mean= calculate_geometric_mean(int_list)\n",
        "geometric_mean\n"
      ],
      "metadata": {
        "colab": {
          "base_uri": "https://localhost:8080/"
        },
        "id": "_vOlM9vGmCRk",
        "outputId": "576d794b-56d6-41fe-cb03-7eb8e8314f22"
      },
      "execution_count": null,
      "outputs": [
        {
          "output_type": "execute_result",
          "data": {
            "text/plain": [
              "107.59642893515984"
            ]
          },
          "metadata": {},
          "execution_count": 24
        }
      ]
    },
    {
      "cell_type": "code",
      "source": [
        " #(v) Create a program to calculate the harmonic mean of a list of values.\n",
        "\n",
        "def calculate_harmonic_mean(numbers):\n",
        "    n = len(numbers)\n",
        "    return n / sum(1 / num for num in numbers)\n",
        "\n",
        "harmonic_mean= calculate_harmonic_mean(int_list)\n",
        "harmonic_mean\n",
        "\n"
      ],
      "metadata": {
        "colab": {
          "base_uri": "https://localhost:8080/"
        },
        "id": "VSiRsZCkmmy5",
        "outputId": "befbb987-4ab1-44f8-d183-9a3a140798a6"
      },
      "execution_count": null,
      "outputs": [
        {
          "output_type": "execute_result",
          "data": {
            "text/plain": [
              "106.95465228459587"
            ]
          },
          "metadata": {},
          "execution_count": 27
        }
      ]
    },
    {
      "cell_type": "code",
      "source": [
        "#  (vi) Build a function to determine the midrange of a list of numbers (average of the minimum and maximum).\n",
        "def calculate_midrange(numbers):\n",
        "    minimum = min(numbers)\n",
        "    maximum = max(numbers)\n",
        "    return (minimum + maximum) / 2\n",
        "\n",
        "midrange= calculate_midrange(int_list)\n",
        "midrange"
      ],
      "metadata": {
        "colab": {
          "base_uri": "https://localhost:8080/"
        },
        "id": "4MKG0FEXnAN6",
        "outputId": "891fcc32-53dc-460d-cab9-d9f46f3692b8"
      },
      "execution_count": null,
      "outputs": [
        {
          "output_type": "execute_result",
          "data": {
            "text/plain": [
              "110.0"
            ]
          },
          "metadata": {},
          "execution_count": 28
        }
      ]
    },
    {
      "cell_type": "code",
      "source": [
        "#  (vii) Implement a Python program to find the trimmed mean of a list, excluding a certain percentage of outliers.\n",
        "def calculate_trimmed_mean(numbers, trim_percentage):\n",
        "    sorted_numbers = sorted(numbers)\n",
        "    print(f\"Sorted numbers: {sorted_numbers}\")\n",
        "    trim_count = int(len(numbers) * trim_percentage / 100)\n",
        "    trimmed_numbers = sorted_numbers[trim_count:-trim_count]\n",
        "    trimmed_mean = sum(trimmed_numbers) / len(trimmed_numbers)\n",
        "    return trimmed_mean\n",
        "\n",
        "trim_percentage = 10  # trimming 10% from both ends\n",
        "trimmed_mean_of_int_list = calculate_trimmed_mean(int_list, trim_percentage)\n",
        "print(f\"Trimmed mean (10% trim): {trimmed_mean_of_int_list}\")\n",
        "\n"
      ],
      "metadata": {
        "colab": {
          "base_uri": "https://localhost:8080/"
        },
        "id": "lW_rxow6nhoM",
        "outputId": "af23c8cf-439b-445f-b928-77489fc9dda5"
      },
      "execution_count": null,
      "outputs": [
        {
          "output_type": "stream",
          "name": "stdout",
          "text": [
            "Sorted numbers: [90, 90, 90, 91, 91, 91, 91, 92, 92, 92, 92, 92, 92, 93, 93, 93, 95, 95, 95, 95, 96, 97, 97, 97, 97, 98, 98, 99, 99, 99, 101, 101, 101, 102, 102, 103, 103, 103, 103, 103, 104, 104, 105, 105, 105, 106, 106, 106, 107, 107, 108, 109, 109, 109, 110, 111, 111, 111, 111, 111, 111, 112, 112, 113, 113, 114, 115, 116, 116, 117, 118, 118, 118, 119, 119, 120, 120, 120, 120, 120, 121, 121, 121, 122, 122, 122, 124, 124, 124, 124, 125, 126, 126, 126, 126, 127, 127, 127, 129, 130]\n",
            "Trimmed mean (10% trim): 108.0625\n"
          ]
        }
      ]
    },
    {
      "cell_type": "code",
      "source": [
        "## 2. Generate a list of 500 integers containing values between 200 to 300 and store it in the variable `int_list2`.After generating the list, find the following:\n",
        "int_list2 = ([random.randint(200, 300) for _ in range(500)])\n",
        "int_list2"
      ],
      "metadata": {
        "colab": {
          "base_uri": "https://localhost:8080/"
        },
        "id": "gAiuM8TeoG7P",
        "outputId": "99a80c9a-a864-429d-e1d7-54917a5728cd"
      },
      "execution_count": null,
      "outputs": [
        {
          "output_type": "execute_result",
          "data": {
            "text/plain": [
              "[206,\n",
              " 243,\n",
              " 287,\n",
              " 269,\n",
              " 245,\n",
              " 254,\n",
              " 228,\n",
              " 273,\n",
              " 253,\n",
              " 215,\n",
              " 273,\n",
              " 249,\n",
              " 223,\n",
              " 252,\n",
              " 259,\n",
              " 282,\n",
              " 212,\n",
              " 296,\n",
              " 211,\n",
              " 270,\n",
              " 213,\n",
              " 257,\n",
              " 258,\n",
              " 223,\n",
              " 287,\n",
              " 206,\n",
              " 223,\n",
              " 252,\n",
              " 294,\n",
              " 296,\n",
              " 233,\n",
              " 210,\n",
              " 265,\n",
              " 294,\n",
              " 285,\n",
              " 274,\n",
              " 264,\n",
              " 213,\n",
              " 281,\n",
              " 272,\n",
              " 248,\n",
              " 274,\n",
              " 299,\n",
              " 257,\n",
              " 240,\n",
              " 261,\n",
              " 241,\n",
              " 241,\n",
              " 273,\n",
              " 248,\n",
              " 273,\n",
              " 289,\n",
              " 220,\n",
              " 300,\n",
              " 244,\n",
              " 282,\n",
              " 288,\n",
              " 253,\n",
              " 294,\n",
              " 202,\n",
              " 254,\n",
              " 226,\n",
              " 218,\n",
              " 208,\n",
              " 239,\n",
              " 293,\n",
              " 214,\n",
              " 265,\n",
              " 256,\n",
              " 294,\n",
              " 281,\n",
              " 238,\n",
              " 263,\n",
              " 219,\n",
              " 210,\n",
              " 259,\n",
              " 286,\n",
              " 275,\n",
              " 226,\n",
              " 230,\n",
              " 280,\n",
              " 264,\n",
              " 232,\n",
              " 234,\n",
              " 276,\n",
              " 280,\n",
              " 230,\n",
              " 218,\n",
              " 234,\n",
              " 225,\n",
              " 234,\n",
              " 291,\n",
              " 284,\n",
              " 237,\n",
              " 299,\n",
              " 269,\n",
              " 279,\n",
              " 235,\n",
              " 246,\n",
              " 290,\n",
              " 234,\n",
              " 262,\n",
              " 224,\n",
              " 261,\n",
              " 227,\n",
              " 238,\n",
              " 234,\n",
              " 279,\n",
              " 275,\n",
              " 222,\n",
              " 298,\n",
              " 239,\n",
              " 242,\n",
              " 202,\n",
              " 284,\n",
              " 290,\n",
              " 299,\n",
              " 209,\n",
              " 264,\n",
              " 294,\n",
              " 272,\n",
              " 288,\n",
              " 247,\n",
              " 284,\n",
              " 287,\n",
              " 217,\n",
              " 263,\n",
              " 216,\n",
              " 210,\n",
              " 248,\n",
              " 294,\n",
              " 241,\n",
              " 295,\n",
              " 210,\n",
              " 205,\n",
              " 236,\n",
              " 212,\n",
              " 300,\n",
              " 283,\n",
              " 273,\n",
              " 207,\n",
              " 222,\n",
              " 256,\n",
              " 264,\n",
              " 202,\n",
              " 239,\n",
              " 281,\n",
              " 213,\n",
              " 269,\n",
              " 214,\n",
              " 279,\n",
              " 244,\n",
              " 291,\n",
              " 243,\n",
              " 252,\n",
              " 283,\n",
              " 282,\n",
              " 200,\n",
              " 276,\n",
              " 281,\n",
              " 232,\n",
              " 287,\n",
              " 246,\n",
              " 271,\n",
              " 259,\n",
              " 212,\n",
              " 209,\n",
              " 223,\n",
              " 211,\n",
              " 211,\n",
              " 233,\n",
              " 258,\n",
              " 239,\n",
              " 226,\n",
              " 204,\n",
              " 215,\n",
              " 274,\n",
              " 260,\n",
              " 278,\n",
              " 233,\n",
              " 295,\n",
              " 234,\n",
              " 260,\n",
              " 203,\n",
              " 251,\n",
              " 281,\n",
              " 237,\n",
              " 264,\n",
              " 224,\n",
              " 221,\n",
              " 254,\n",
              " 226,\n",
              " 210,\n",
              " 248,\n",
              " 224,\n",
              " 292,\n",
              " 279,\n",
              " 265,\n",
              " 297,\n",
              " 244,\n",
              " 282,\n",
              " 224,\n",
              " 202,\n",
              " 261,\n",
              " 277,\n",
              " 220,\n",
              " 257,\n",
              " 287,\n",
              " 239,\n",
              " 225,\n",
              " 252,\n",
              " 281,\n",
              " 271,\n",
              " 240,\n",
              " 203,\n",
              " 286,\n",
              " 272,\n",
              " 268,\n",
              " 270,\n",
              " 292,\n",
              " 277,\n",
              " 246,\n",
              " 250,\n",
              " 274,\n",
              " 297,\n",
              " 243,\n",
              " 276,\n",
              " 205,\n",
              " 250,\n",
              " 290,\n",
              " 202,\n",
              " 214,\n",
              " 254,\n",
              " 232,\n",
              " 300,\n",
              " 210,\n",
              " 243,\n",
              " 214,\n",
              " 281,\n",
              " 230,\n",
              " 239,\n",
              " 282,\n",
              " 235,\n",
              " 254,\n",
              " 289,\n",
              " 266,\n",
              " 294,\n",
              " 293,\n",
              " 264,\n",
              " 261,\n",
              " 296,\n",
              " 225,\n",
              " 231,\n",
              " 232,\n",
              " 204,\n",
              " 280,\n",
              " 293,\n",
              " 269,\n",
              " 214,\n",
              " 286,\n",
              " 221,\n",
              " 290,\n",
              " 280,\n",
              " 232,\n",
              " 232,\n",
              " 297,\n",
              " 236,\n",
              " 237,\n",
              " 234,\n",
              " 294,\n",
              " 267,\n",
              " 208,\n",
              " 264,\n",
              " 247,\n",
              " 284,\n",
              " 233,\n",
              " 250,\n",
              " 233,\n",
              " 219,\n",
              " 292,\n",
              " 229,\n",
              " 280,\n",
              " 264,\n",
              " 247,\n",
              " 248,\n",
              " 213,\n",
              " 274,\n",
              " 264,\n",
              " 274,\n",
              " 297,\n",
              " 300,\n",
              " 215,\n",
              " 256,\n",
              " 295,\n",
              " 242,\n",
              " 257,\n",
              " 213,\n",
              " 298,\n",
              " 237,\n",
              " 276,\n",
              " 227,\n",
              " 276,\n",
              " 244,\n",
              " 267,\n",
              " 230,\n",
              " 204,\n",
              " 294,\n",
              " 293,\n",
              " 208,\n",
              " 262,\n",
              " 288,\n",
              " 290,\n",
              " 241,\n",
              " 232,\n",
              " 253,\n",
              " 293,\n",
              " 228,\n",
              " 278,\n",
              " 206,\n",
              " 211,\n",
              " 210,\n",
              " 277,\n",
              " 219,\n",
              " 296,\n",
              " 293,\n",
              " 288,\n",
              " 299,\n",
              " 257,\n",
              " 226,\n",
              " 271,\n",
              " 221,\n",
              " 292,\n",
              " 243,\n",
              " 295,\n",
              " 223,\n",
              " 228,\n",
              " 238,\n",
              " 203,\n",
              " 223,\n",
              " 268,\n",
              " 268,\n",
              " 216,\n",
              " 204,\n",
              " 242,\n",
              " 211,\n",
              " 287,\n",
              " 244,\n",
              " 248,\n",
              " 235,\n",
              " 234,\n",
              " 222,\n",
              " 253,\n",
              " 246,\n",
              " 246,\n",
              " 267,\n",
              " 291,\n",
              " 275,\n",
              " 222,\n",
              " 287,\n",
              " 231,\n",
              " 239,\n",
              " 250,\n",
              " 281,\n",
              " 287,\n",
              " 262,\n",
              " 269,\n",
              " 295,\n",
              " 295,\n",
              " 257,\n",
              " 289,\n",
              " 300,\n",
              " 238,\n",
              " 214,\n",
              " 267,\n",
              " 237,\n",
              " 262,\n",
              " 216,\n",
              " 213,\n",
              " 299,\n",
              " 299,\n",
              " 209,\n",
              " 255,\n",
              " 287,\n",
              " 274,\n",
              " 232,\n",
              " 263,\n",
              " 209,\n",
              " 227,\n",
              " 298,\n",
              " 280,\n",
              " 292,\n",
              " 273,\n",
              " 268,\n",
              " 222,\n",
              " 288,\n",
              " 244,\n",
              " 298,\n",
              " 249,\n",
              " 248,\n",
              " 259,\n",
              " 266,\n",
              " 213,\n",
              " 233,\n",
              " 252,\n",
              " 210,\n",
              " 242,\n",
              " 263,\n",
              " 283,\n",
              " 246,\n",
              " 269,\n",
              " 249,\n",
              " 251,\n",
              " 219,\n",
              " 251,\n",
              " 264,\n",
              " 297,\n",
              " 276,\n",
              " 226,\n",
              " 245,\n",
              " 261,\n",
              " 279,\n",
              " 298,\n",
              " 292,\n",
              " 253,\n",
              " 268,\n",
              " 277,\n",
              " 274,\n",
              " 263,\n",
              " 250,\n",
              " 234,\n",
              " 296,\n",
              " 206,\n",
              " 249,\n",
              " 204,\n",
              " 278,\n",
              " 242,\n",
              " 215,\n",
              " 246,\n",
              " 295,\n",
              " 226,\n",
              " 239,\n",
              " 206,\n",
              " 268,\n",
              " 292,\n",
              " 248,\n",
              " 208,\n",
              " 280,\n",
              " 292,\n",
              " 248,\n",
              " 291,\n",
              " 247,\n",
              " 253,\n",
              " 230,\n",
              " 249,\n",
              " 269,\n",
              " 264,\n",
              " 275,\n",
              " 248,\n",
              " 292,\n",
              " 225,\n",
              " 271,\n",
              " 269,\n",
              " 275,\n",
              " 266,\n",
              " 276,\n",
              " 271,\n",
              " 300,\n",
              " 260,\n",
              " 226,\n",
              " 242,\n",
              " 264,\n",
              " 227,\n",
              " 241,\n",
              " 266,\n",
              " 200,\n",
              " 267,\n",
              " 252,\n",
              " 267,\n",
              " 207,\n",
              " 213,\n",
              " 271,\n",
              " 252,\n",
              " 288,\n",
              " 215,\n",
              " 257,\n",
              " 273,\n",
              " 216,\n",
              " 227,\n",
              " 213,\n",
              " 230,\n",
              " 219,\n",
              " 249,\n",
              " 204,\n",
              " 298,\n",
              " 207,\n",
              " 235,\n",
              " 284,\n",
              " 282,\n",
              " 284,\n",
              " 278]"
            ]
          },
          "metadata": {},
          "execution_count": 7
        }
      ]
    },
    {
      "cell_type": "code",
      "source": [
        "# (i) Compare the given list of visualization for the given data:\n",
        "\n",
        "\n",
        "\n",
        "   # 1. Frequency & Gaussian distribution\n",
        "\n",
        "    #2. Frequency smoothened KDE plot\n",
        "\n",
        "    #3. Gaussian distribution & smoothened KDE plot\n",
        "\n",
        "\n",
        "import numpy as np\n",
        "import seaborn as sns\n",
        "import matplotlib.pyplot as plt\n",
        "from scipy.stats import norm\n",
        "\n",
        "# Step 1: Prepare data for Gaussian distribution\n",
        "mean, std_dev = np.mean(int_list2), np.std(int_list2)\n",
        "\n",
        "# Step 2: Plot Frequency & Gaussian distribution\n",
        "plt.figure(figsize=(14, 6))\n",
        "\n",
        "# Frequency plot (histogram)\n",
        "plt.subplot(1, 3, 1)\n",
        "sns.histplot(int_list2, bins=20, kde=False, color='skyblue', stat='density')\n",
        "# Gaussian distribution (Normal curve)\n",
        "x = np.linspace(200, 300, 500)\n",
        "plt.plot(x, norm.pdf(x, mean, std_dev), color='red', label=\"Gaussian Distribution\")\n",
        "plt.title('Frequency & Gaussian Distribution')\n",
        "plt.legend()\n",
        "\n",
        "# Step 3: Plot Frequency & Smoothened KDE plot\n",
        "plt.subplot(1, 3, 2)\n",
        "sns.histplot(int_list2, bins=20, kde=True, color='lightgreen', stat='density')\n",
        "plt.title('Frequency & Smoothened KDE Plot')\n",
        "\n",
        "# Step 4: Plot Gaussian distribution & Smoothened KDE plot\n",
        "plt.subplot(1, 3, 3)\n",
        "sns.kdeplot(int_list2, color='blue', label=\"KDE\")\n",
        "plt.plot(x, norm.pdf(x, mean, std_dev), color='red', label=\"Gaussian Distribution\")\n",
        "plt.title('Gaussian Distribution & Smoothened KDE Plot')\n",
        "plt.legend()\n",
        "\n",
        "# Show the plot\n",
        "plt.tight_layout()\n",
        "plt.show()\n"
      ],
      "metadata": {
        "id": "HubVSWFUogXW",
        "colab": {
          "base_uri": "https://localhost:8080/",
          "height": 607
        },
        "outputId": "7000cbb6-330c-4361-d392-8c96c0a6d779"
      },
      "execution_count": null,
      "outputs": [
        {
          "output_type": "display_data",
          "data": {
            "text/plain": [
              "<Figure size 1400x600 with 3 Axes>"
            ],
            "image/png": "[encoded data removed]"
          },
          "metadata": {}
        }
      ]
    },
    {
      "cell_type": "code",
      "source": [
        "#  (ii) Write a Python function to calculate the range of a given list of numbers.\n",
        "def calculate_range(num_list2):\n",
        "    return max(num_list2) - min(num_list2)\n",
        "\n",
        "list_range = calculate_range(int_list2)\n",
        "print(\"Range of the list:\", list_range)\n"
      ],
      "metadata": {
        "colab": {
          "base_uri": "https://localhost:8080/"
        },
        "id": "Fcu9Oj1iogY7",
        "outputId": "c2df70b4-148e-4142-b31f-618e9930575d"
      },
      "execution_count": null,
      "outputs": [
        {
          "output_type": "stream",
          "name": "stdout",
          "text": [
            "Range of the list: 100\n"
          ]
        }
      ]
    },
    {
      "cell_type": "code",
      "source": [
        "#  (iii) Create a program to find the variance and standard deviation of a list of numbers.\n",
        "def calculate_variance_stddev(num_list2):\n",
        "    variance = statistics.variance(num_list2)\n",
        "    std_dev = statistics.stdev(num_list2)\n",
        "\n",
        "    return variance, std_dev\n",
        "\n",
        "variance, std_dev = calculate_variance_stddev(int_list2)\n",
        "print(\"Variance:\", variance)\n",
        "print(\"Standard Deviation:\", std_dev)"
      ],
      "metadata": {
        "colab": {
          "base_uri": "https://localhost:8080/"
        },
        "id": "fr5G4sz3ok6Z",
        "outputId": "65065b72-8099-4af0-bfa3-2a6117b19989"
      },
      "execution_count": null,
      "outputs": [
        {
          "output_type": "stream",
          "name": "stdout",
          "text": [
            "Variance: 828.2490420841683\n",
            "Standard Deviation: 28.779316219885565\n"
          ]
        }
      ]
    },
    {
      "cell_type": "code",
      "source": [
        "#(iv) Implement a function to compute the interquartile range (IQR) of a list of values.\n",
        "def calculate_iqr(num_list):\n",
        "    Q1 = np.percentile(num_list, 25)\n",
        "    Q3 = np.percentile(num_list, 75)\n",
        "    iqr = Q3 - Q1\n",
        "    return iqr\n",
        "\n",
        "iqr = calculate_iqr(int_list2)\n",
        "print(\"Interquartile Range (IQR):\", iqr)\n"
      ],
      "metadata": {
        "colab": {
          "base_uri": "https://localhost:8080/"
        },
        "id": "rKimScsWqbo6",
        "outputId": "b53c85ec-6885-407c-90cc-b30334c26391"
      },
      "execution_count": null,
      "outputs": [
        {
          "output_type": "stream",
          "name": "stdout",
          "text": [
            "Interquartile Range (IQR): 48.25\n"
          ]
        }
      ]
    },
    {
      "cell_type": "code",
      "source": [
        "#  (v) Build a program to calculate the coefficient of variation for a dataset.\n",
        "import statistics\n",
        "\n",
        "def calculate_coefficient_of_variation(num_list):\n",
        "    # Calculate the mean of the list\n",
        "    mean = statistics.mean(num_list)\n",
        "\n",
        "    # Calculate the standard deviation of the list\n",
        "    std_dev = statistics.stdev(num_list)\n",
        "\n",
        "    # Coefficient of Variation (CV) = (Standard Deviation / Mean) * 100\n",
        "    cv = (std_dev / mean) * 100\n",
        "    return cv\n",
        "\n",
        "cv = calculate_coefficient_of_variation(int_list2)\n",
        "print(\"Coefficient of Variation (CV):\", cv)\n",
        "\n"
      ],
      "metadata": {
        "colab": {
          "base_uri": "https://localhost:8080/"
        },
        "id": "wVDEcPVpqf_o",
        "outputId": "29851a36-a619-4601-c80e-23811fac790d"
      },
      "execution_count": null,
      "outputs": [
        {
          "output_type": "stream",
          "name": "stdout",
          "text": [
            "Coefficient of Variation (CV): 11.357984805625284\n"
          ]
        }
      ]
    },
    {
      "cell_type": "code",
      "source": [
        "# (vi) Write a Python function to find the mean absolute deviation (MAD) of a list of numbers.\n",
        "def calculate_mad(num_list):\n",
        "    # Calculate the mean of the list\n",
        "    mean = sum(num_list) / len(num_list)\n",
        "\n",
        "    # Calculate the absolute deviations from the mean\n",
        "    absolute_deviations = [abs(x - mean) for x in num_list]\n",
        "\n",
        "    # Calculate the Mean Absolute Deviation (MAD)\n",
        "    mad = sum(absolute_deviations) / len(num_list)\n",
        "    return mad\n",
        "\n",
        "mad = calculate_mad(int_list2)\n",
        "print(\"Mean Absolute Deviation (MAD):\", mad)\n",
        "\n"
      ],
      "metadata": {
        "colab": {
          "base_uri": "https://localhost:8080/"
        },
        "id": "-jaBBD6Jqmqc",
        "outputId": "f69c0d0e-c0b8-4f20-c31f-9b3d29431731"
      },
      "execution_count": null,
      "outputs": [
        {
          "output_type": "stream",
          "name": "stdout",
          "text": [
            "Mean Absolute Deviation (MAD): 24.909536\n"
          ]
        }
      ]
    },
    {
      "cell_type": "code",
      "source": [
        " #.(vii) Create a program to calculate the quartile deviation of a list of values.\n",
        "def calculate_quartile_deviation(num_list):\n",
        "    Q1 = np.percentile(num_list, 25)\n",
        "    Q3 = np.percentile(num_list, 75)\n",
        "\n",
        "    # Calculate Quartile Deviation\n",
        "    quartile_deviation = (Q3 - Q1) / 2\n",
        "    return quartile_deviation\n",
        "\n",
        "qd_value=calculate_quartile_deviation(int_list2)\n",
        "print(\"quartile_deviation\",qd_value)\n",
        "\n",
        "\n"
      ],
      "metadata": {
        "colab": {
          "base_uri": "https://localhost:8080/"
        },
        "id": "OJ8h8RHgqq23",
        "outputId": "f2455a0d-b7a3-4ee8-bc0c-9595cfd894d4"
      },
      "execution_count": null,
      "outputs": [
        {
          "output_type": "stream",
          "name": "stdout",
          "text": [
            "quartile_deviation 24.125\n"
          ]
        }
      ]
    },
    {
      "cell_type": "code",
      "source": [
        "#  (viii) Implement a function to find the range-based coefficient of dispersion for a dataset.\n",
        "def calculate_cd(num_list):\n",
        "    # Calculate the range\n",
        "    data_range = max(num_list) - min(num_list)\n",
        "\n",
        "    # Calculate the mean\n",
        "    mean = statistics.mean(num_list)\n",
        "\n",
        "    # Calculate Coefficient of Dispersion (CD)\n",
        "    cd = (data_range / mean) * 100\n",
        "    return cd\n",
        "\n",
        "\n",
        "cd_value = calculate_cd(int_list2)\n",
        "print(\"Range-based Coefficient of Dispersion (CD):\", cd_value)\n"
      ],
      "metadata": {
        "colab": {
          "base_uri": "https://localhost:8080/"
        },
        "id": "lQdp5MplqtIx",
        "outputId": "8fcec4af-de31-4196-ae92-723c5c41c533"
      },
      "execution_count": null,
      "outputs": [
        {
          "output_type": "stream",
          "name": "stdout",
          "text": [
            "Range-based Coefficient of Dispersion (CD): 39.46579105231586\n"
          ]
        }
      ]
    },
    {
      "cell_type": "code",
      "source": [
        "# Q.2 Write a python class representing a discrete random variable with methods to calculate its expected value and variance.\n",
        "class DiscreteRandomVariable:\n",
        "    def __init__(self, values, probabilities):\n",
        "        if len(values) != len(probabilities):\n",
        "            raise ValueError(\"The number of values must match the number of probabilities\")\n",
        "        if not (0.99 < sum(probabilities) < 1.01):\n",
        "            raise ValueError(\"The sum of probabilities must be approximately 1\")\n",
        "        self.values = values\n",
        "        self.probabilities = probabilities\n",
        "\n",
        "    def expected_value(self):\n",
        "        return sum([v * p for v, p in zip(self.values, self.probabilities)])\n",
        "\n",
        "    def variance(self):\n",
        "        mean = self.expected_value()\n",
        "        return sum([p * (v - mean) ** 2 for v, p in zip(self.values, self.probabilities)])\n",
        "\n",
        "\n",
        "values = [1, 2, 3, 4, 5]  # Possible values the random variable can take\n",
        "probabilities = [0.1, 0.2, 0.3, 0.2, 0.2]  # Corresponding probabilities\n",
        "\n",
        "rv = DiscreteRandomVariable(values, probabilities)\n",
        "print(\"Expected Value (E[X]):\", rv.expected_value())\n",
        "print(\"Variance (Var[X]):\", rv.variance())\n"
      ],
      "metadata": {
        "colab": {
          "base_uri": "https://localhost:8080/"
        },
        "id": "9H2u8-yEtKsa",
        "outputId": "8027f417-1d79-45d0-b6f4-33ed6de84ab4"
      },
      "execution_count": null,
      "outputs": [
        {
          "output_type": "stream",
          "name": "stdout",
          "text": [
            "Expected Value (E[X]): 3.2\n",
            "Variance (Var[X]): 1.56\n"
          ]
        }
      ]
    },
    {
      "cell_type": "code",
      "source": [
        "#Q.4Implement a program to simulate the rolling of a fair six-sided die and calculate the expected value and variance of the outcomes.\n",
        "\n",
        "\n",
        "import random\n",
        "import statistics\n",
        "\n",
        "# Simulate rolling of a fair six-sided die and calculate the expected value and variance of the outcomes.\n",
        "def roll_die(num_rolls):\n",
        "    outcomes = []\n",
        "\n",
        "    # Simulate rolling a six-sided die num_rolls times\n",
        "    for _ in range(num_rolls): # Use the built-in range function\n",
        "        die = random.randint(1, 6)  # Generates a random number between 1 and 6\n",
        "        outcomes.append(die)\n",
        "\n",
        "    return outcomes\n",
        "\n",
        "def calculate_expected_value(outcomes):\n",
        "    # Calculate the mean (expected value) of the outcomes\n",
        "    return statistics.mean(outcomes)\n",
        "\n",
        "def calculate_variance(outcomes):\n",
        "    # Calculate the variance of the outcomes\n",
        "    return statistics.variance(outcomes)\n",
        "\n",
        "# Simulate rolling the die\n",
        "num_rolls = 10000  # Set the number of rolls\n",
        "outcomes = roll_die(num_rolls)\n",
        "\n",
        "# Calculate expected value and variance\n",
        "expected_value = calculate_expected_value(outcomes)\n",
        "variance = calculate_variance(outcomes)\n",
        "\n",
        "print(f\"After {num_rolls} rolls:\")\n",
        "print(\"Expected Value (E[X]):\", expected_value)\n",
        "print(\"Variance (Var[X]):\", variance)\n",
        "\n",
        "# To avoid this error in the future, it's recommended to avoid using built-in function names\n",
        "# as variable names. If you need to store the range of a dataset, consider using a\n",
        "# different variable name like data_range.\n",
        "data_range = 100 # Changed variable name to data_range"
      ],
      "metadata": {
        "colab": {
          "base_uri": "https://localhost:8080/",
          "height": 332
        },
        "id": "gi7jxkXyvpFF",
        "outputId": "ba6f242d-5a60-41b9-f22c-f95c2e563c1f"
      },
      "execution_count": null,
      "outputs": [
        {
          "output_type": "error",
          "ename": "TypeError",
          "evalue": "'int' object is not callable",
          "traceback": [
            "\u001b[0;31m---------------------------------------------------------------------------\u001b[0m",
            "\u001b[0;31mTypeError\u001b[0m                                 Traceback (most recent call last)",
            "\u001b[0;32m<ipython-input-47-84daebb5f3b1>\u001b[0m in \u001b[0;36m<cell line: 28>\u001b[0;34m()\u001b[0m\n\u001b[1;32m     26\u001b[0m \u001b[0;31m# Simulate rolling the die\u001b[0m\u001b[0;34m\u001b[0m\u001b[0;34m\u001b[0m\u001b[0m\n\u001b[1;32m     27\u001b[0m \u001b[0mnum_rolls\u001b[0m \u001b[0;34m=\u001b[0m \u001b[0;36m10000\u001b[0m  \u001b[0;31m# Set the number of rolls\u001b[0m\u001b[0;34m\u001b[0m\u001b[0;34m\u001b[0m\u001b[0m\n\u001b[0;32m---> 28\u001b[0;31m \u001b[0moutcomes\u001b[0m \u001b[0;34m=\u001b[0m \u001b[0mroll_die\u001b[0m\u001b[0;34m(\u001b[0m\u001b[0mnum_rolls\u001b[0m\u001b[0;34m)\u001b[0m\u001b[0;34m\u001b[0m\u001b[0;34m\u001b[0m\u001b[0m\n\u001b[0m\u001b[1;32m     29\u001b[0m \u001b[0;34m\u001b[0m\u001b[0m\n\u001b[1;32m     30\u001b[0m \u001b[0;31m# Calculate expected value and variance\u001b[0m\u001b[0;34m\u001b[0m\u001b[0;34m\u001b[0m\u001b[0m\n",
            "\u001b[0;32m<ipython-input-47-84daebb5f3b1>\u001b[0m in \u001b[0;36mroll_die\u001b[0;34m(num_rolls)\u001b[0m\n\u001b[1;32m     10\u001b[0m \u001b[0;34m\u001b[0m\u001b[0m\n\u001b[1;32m     11\u001b[0m     \u001b[0;31m# Simulate rolling a six-sided die num_rolls times\u001b[0m\u001b[0;34m\u001b[0m\u001b[0;34m\u001b[0m\u001b[0m\n\u001b[0;32m---> 12\u001b[0;31m     \u001b[0;32mfor\u001b[0m \u001b[0m_\u001b[0m \u001b[0;32min\u001b[0m \u001b[0mrange\u001b[0m\u001b[0;34m(\u001b[0m\u001b[0mnum_rolls\u001b[0m\u001b[0;34m)\u001b[0m\u001b[0;34m:\u001b[0m \u001b[0;31m# Use the built-in range function\u001b[0m\u001b[0;34m\u001b[0m\u001b[0;34m\u001b[0m\u001b[0m\n\u001b[0m\u001b[1;32m     13\u001b[0m         \u001b[0mdie\u001b[0m \u001b[0;34m=\u001b[0m \u001b[0mrandom\u001b[0m\u001b[0;34m.\u001b[0m\u001b[0mrandint\u001b[0m\u001b[0;34m(\u001b[0m\u001b[0;36m1\u001b[0m\u001b[0;34m,\u001b[0m \u001b[0;36m6\u001b[0m\u001b[0;34m)\u001b[0m  \u001b[0;31m# Generates a random number between 1 and 6\u001b[0m\u001b[0;34m\u001b[0m\u001b[0;34m\u001b[0m\u001b[0m\n\u001b[1;32m     14\u001b[0m         \u001b[0moutcomes\u001b[0m\u001b[0;34m.\u001b[0m\u001b[0mappend\u001b[0m\u001b[0;34m(\u001b[0m\u001b[0mdie\u001b[0m\u001b[0;34m)\u001b[0m\u001b[0;34m\u001b[0m\u001b[0;34m\u001b[0m\u001b[0m\n",
            "\u001b[0;31mTypeError\u001b[0m: 'int' object is not callable"
          ]
        }
      ]
    },
    {
      "cell_type": "code",
      "source": [
        "# Q.5Create a Python function to generate random samples from a given probability distribution (e.g.,binomial, Poisson) and calculate their mean and variance.\n",
        "\n",
        "import numpy as np\n",
        "import statistics\n",
        "\n",
        "def generate_random_samples(distribution, params, sample_size=1000):\n",
        "    \"\"\"\n",
        "    Generate random samples from a specified probability distribution and calculate mean and variance.\n",
        "\n",
        "    :param distribution: The type of distribution ('binomial' or 'poisson').\n",
        "    :param params: Parameters for the distribution (e.g., (n, p) for binomial, (lambda_) for Poisson).\n",
        "    :param sample_size: The number of random samples to generate (default is 1000).\n",
        "    :return: Mean and variance of the generated samples.\n",
        "    \"\"\"\n",
        "\n",
        "    # Generate samples based on the distribution type\n",
        "    if distribution == 'binomial':\n",
        "        n, p = params\n",
        "        samples = np.random.binomial(n, p, sample_size)\n",
        "    elif distribution == 'poisson':\n",
        "        lambda_ = params\n",
        "        samples = np.random.poisson(lambda_, sample_size)\n",
        "    else:\n",
        "        raise ValueError(\"Unsupported distribution. Use 'binomial' or 'poisson'.\")\n",
        "\n",
        "    # Calculate mean and variance of the generated samples\n",
        "    mean = statistics.mean(samples)\n",
        "    variance = statistics.variance(samples)\n",
        "\n",
        "    return mean, variance\n",
        "\n",
        "# Example usage for binomial distribution\n",
        "distribution = 'binomial'\n",
        "params = (10, 0.5)  # n = 10, p = 0.5\n",
        "mean, variance = generate_random_samples(distribution, params)\n",
        "print(f\"Binomial Distribution: Mean = {mean}, Variance = {variance}\")\n",
        "\n",
        "# Example usage for Poisson distribution\n",
        "distribution = 'poisson'\n",
        "params = 3  # lambda = 3\n",
        "mean, variance = generate_random_samples(distribution, params)\n",
        "print(f\"Poisson Distribution: Mean = {mean}, Variance = {variance}\")\n"
      ],
      "metadata": {
        "colab": {
          "base_uri": "https://localhost:8080/"
        },
        "id": "6gSesrOkvyih",
        "outputId": "bd70b328-85ab-47ed-b364-d934a04748b5"
      },
      "execution_count": null,
      "outputs": [
        {
          "output_type": "stream",
          "name": "stdout",
          "text": [
            "Binomial Distribution: Mean = 5, Variance = 2\n",
            "Poisson Distribution: Mean = 3, Variance = 3\n"
          ]
        }
      ]
    },
    {
      "cell_type": "code",
      "source": [
        "# Q.6 Write python script to generate random numbers from a Gaussian (normal) distribution and compute the mean, variance, and standard deviation o6 the samples.\n",
        "import numpy as np\n",
        "import statistics\n",
        "\n",
        "def generate_gaussian_samples(mean, std_dev, sample_size=1000):\n",
        "    samples = np.random.normal(mean, std_dev, sample_size)\n",
        "\n",
        "    calculated_mean = statistics.mean(samples)\n",
        "    calculated_variance = statistics.variance(samples)\n",
        "    calculated_std_dev = statistics.stdev(samples)\n",
        "\n",
        "    return calculated_mean, calculated_variance, calculated_std_dev\n",
        "\n",
        "mean = 0\n",
        "std_dev = 1\n",
        "sample_size = 1000\n",
        "\n",
        "calculated_mean, calculated_variance, calculated_std_dev = generate_gaussian_samples(mean, std_dev, sample_size)\n",
        "print(f\"Generated {sample_size} random numbers from a Gaussian distribution:\")\n",
        "print(f\"Calculated Mean: {calculated_mean}\")\n",
        "print(f\"Calculated Variance: {calculated_variance}\")\n",
        "print(f\"Calculated Standard Deviation: {calculated_std_dev}\")\n",
        "\n"
      ],
      "metadata": {
        "colab": {
          "base_uri": "https://localhost:8080/"
        },
        "id": "qGK26ybwzxXD",
        "outputId": "507cc4cd-be8b-4498-8d9d-c439aebdc625"
      },
      "execution_count": null,
      "outputs": [
        {
          "output_type": "stream",
          "name": "stdout",
          "text": [
            "Generated 1000 random numbers from a Gaussian distribution:\n",
            "Calculated Mean: -0.008788819988500141\n",
            "Calculated Variance: 0.96898101930194\n",
            "Calculated Standard Deviation: 0.9843683351784229\n"
          ]
        }
      ]
    },
    {
      "cell_type": "code",
      "source": [
        "#.Q.7 Use seaborn library to load tips dataset. Find the following from the dataset for the columns total_bill and tip`:\n",
        "import pandas as pd\n",
        "import numpy as np\n",
        "import matplotlib.pyplot as plt\n",
        "import seaborn as sns\n",
        "\n",
        "df=sns.load_dataset('tips')\n",
        "df\n",
        "df1=df[['total_bill','tip']]\n",
        "df1"
      ],
      "metadata": {
        "colab": {
          "base_uri": "https://localhost:8080/",
          "height": 423
        },
        "id": "7M9Aw7350NUU",
        "outputId": "8aedd283-b22b-4e75-84e3-0b6e31e9c925"
      },
      "execution_count": null,
      "outputs": [
        {
          "output_type": "execute_result",
          "data": {
            "text/plain": [
              "     total_bill   tip\n",
              "0         16.99  1.01\n",
              "1         10.34  1.66\n",
              "2         21.01  3.50\n",
              "3         23.68  3.31\n",
              "4         24.59  3.61\n",
              "..          ...   ...\n",
              "239       29.03  5.92\n",
              "240       27.18  2.00\n",
              "241       22.67  2.00\n",
              "242       17.82  1.75\n",
              "243       18.78  3.00\n",
              "\n",
              "[244 rows x 2 columns]"
            ],
            "text/html": [
              "\n",
              "  <div id=\"df-dc08a51d-4041-4690-96fa-98fe30f20dda\" class=\"colab-df-container\">\n",
              "    <div>\n",
              "<style scoped>\n",
              "    .dataframe tbody tr th:only-of-type {\n",
              "        vertical-align: middle;\n",
              "    }\n",
              "\n",
              "    .dataframe tbody tr th {\n",
              "        vertical-align: top;\n",
              "    }\n",
              "\n",
              "    .dataframe thead th {\n",
              "        text-align: right;\n",
              "    }\n",
              "</style>\n",
              "<table border=\"1\" class=\"dataframe\">\n",
              "  <thead>\n",
              "    <tr style=\"text-align: right;\">\n",
              "      <th></th>\n",
              "      <th>total_bill</th>\n",
              "      <th>tip</th>\n",
              "    </tr>\n",
              "  </thead>\n",
              "  <tbody>\n",
              "    <tr>\n",
              "      <th>0</th>\n",
              "      <td>16.99</td>\n",
              "      <td>1.01</td>\n",
              "    </tr>\n",
              "    <tr>\n",
              "      <th>1</th>\n",
              "      <td>10.34</td>\n",
              "      <td>1.66</td>\n",
              "    </tr>\n",
              "    <tr>\n",
              "      <th>2</th>\n",
              "      <td>21.01</td>\n",
              "      <td>3.50</td>\n",
              "    </tr>\n",
              "    <tr>\n",
              "      <th>3</th>\n",
              "      <td>23.68</td>\n",
              "      <td>3.31</td>\n",
              "    </tr>\n",
              "    <tr>\n",
              "      <th>4</th>\n",
              "      <td>24.59</td>\n",
              "      <td>3.61</td>\n",
              "    </tr>\n",
              "    <tr>\n",
              "      <th>...</th>\n",
              "      <td>...</td>\n",
              "      <td>...</td>\n",
              "    </tr>\n",
              "    <tr>\n",
              "      <th>239</th>\n",
              "      <td>29.03</td>\n",
              "      <td>5.92</td>\n",
              "    </tr>\n",
              "    <tr>\n",
              "      <th>240</th>\n",
              "      <td>27.18</td>\n",
              "      <td>2.00</td>\n",
              "    </tr>\n",
              "    <tr>\n",
              "      <th>241</th>\n",
              "      <td>22.67</td>\n",
              "      <td>2.00</td>\n",
              "    </tr>\n",
              "    <tr>\n",
              "      <th>242</th>\n",
              "      <td>17.82</td>\n",
              "      <td>1.75</td>\n",
              "    </tr>\n",
              "    <tr>\n",
              "      <th>243</th>\n",
              "      <td>18.78</td>\n",
              "      <td>3.00</td>\n",
              "    </tr>\n",
              "  </tbody>\n",
              "</table>\n",
              "<p>244 rows × 2 columns</p>\n",
              "</div>\n",
              "    <div class=\"colab-df-buttons\">\n",
              "\n",
              "  <div class=\"colab-df-container\">\n",
              "    <button class=\"colab-df-convert\" onclick=\"convertToInteractive('df-dc08a51d-4041-4690-96fa-98fe30f20dda')\"\n",
              "            title=\"Convert this dataframe to an interactive table.\"\n",
              "            style=\"display:none;\">\n",
              "\n",
              "  <svg xmlns=\"http://www.w3.org/2000/svg\" height=\"24px\" viewBox=\"0 -960 960 960\">\n",
              "    <path d=\"M120-120v-720h720v720H120Zm60-500h600v-160H180v160Zm220 220h160v-160H400v160Zm0 220h160v-160H400v160ZM180-400h160v-160H180v160Zm440 0h160v-160H620v160ZM180-180h160v-160H180v160Zm440 0h160v-160H620v160Z\"/>\n",
              "  </svg>\n",
              "    </button>\n",
              "\n",
              "  <style>\n",
              "    .colab-df-container {\n",
              "      display:flex;\n",
              "      gap: 12px;\n",
              "    }\n",
              "\n",
              "    .colab-df-convert {\n",
              "      background-color: #E8F0FE;\n",
              "      border: none;\n",
              "      border-radius: 50%;\n",
              "      cursor: pointer;\n",
              "      display: none;\n",
              "      fill: #1967D2;\n",
              "      height: 32px;\n",
              "      padding: 0 0 0 0;\n",
              "      width: 32px;\n",
              "    }\n",
              "\n",
              "    .colab-df-convert:hover {\n",
              "      background-color: #E2EBFA;\n",
              "      box-shadow: 0px 1px 2px rgba(60, 64, 67, 0.3), 0px 1px 3px 1px rgba(60, 64, 67, 0.15);\n",
              "      fill: #174EA6;\n",
              "    }\n",
              "\n",
              "    .colab-df-buttons div {\n",
              "      margin-bottom: 4px;\n",
              "    }\n",
              "\n",
              "    [theme=dark] .colab-df-convert {\n",
              "      background-color: #3B4455;\n",
              "      fill: #D2E3FC;\n",
              "    }\n",
              "\n",
              "    [theme=dark] .colab-df-convert:hover {\n",
              "      background-color: #434B5C;\n",
              "      box-shadow: 0px 1px 3px 1px rgba(0, 0, 0, 0.15);\n",
              "      filter: drop-shadow(0px 1px 2px rgba(0, 0, 0, 0.3));\n",
              "      fill: #FFFFFF;\n",
              "    }\n",
              "  </style>\n",
              "\n",
              "    <script>\n",
              "      const buttonEl =\n",
              "        document.querySelector('#df-dc08a51d-4041-4690-96fa-98fe30f20dda button.colab-df-convert');\n",
              "      buttonEl.style.display =\n",
              "        google.colab.kernel.accessAllowed ? 'block' : 'none';\n",
              "\n",
              "      async function convertToInteractive(key) {\n",
              "        const element = document.querySelector('#df-dc08a51d-4041-4690-96fa-98fe30f20dda');\n",
              "        const dataTable =\n",
              "          await google.colab.kernel.invokeFunction('convertToInteractive',\n",
              "                                                    [key], {});\n",
              "        if (!dataTable) return;\n",
              "\n",
              "        const docLinkHtml = 'Like what you see? Visit the ' +\n",
              "          '<a target=\"_blank\" href=https://colab.research.google.com/notebooks/data_table.ipynb>data table notebook</a>'\n",
              "          + ' to learn more about interactive tables.';\n",
              "        element.innerHTML = '';\n",
              "        dataTable['output_type'] = 'display_data';\n",
              "        await google.colab.output.renderOutput(dataTable, element);\n",
              "        const docLink = document.createElement('div');\n",
              "        docLink.innerHTML = docLinkHtml;\n",
              "        element.appendChild(docLink);\n",
              "      }\n",
              "    </script>\n",
              "  </div>\n",
              "\n",
              "\n",
              "<div id=\"df-db16ba96-865a-4b00-af9e-76dfa6057b34\">\n",
              "  <button class=\"colab-df-quickchart\" onclick=\"quickchart('df-db16ba96-865a-4b00-af9e-76dfa6057b34')\"\n",
              "            title=\"Suggest charts\"\n",
              "            style=\"display:none;\">\n",
              "\n",
              "<svg xmlns=\"http://www.w3.org/2000/svg\" height=\"24px\"viewBox=\"0 0 24 24\"\n",
              "     width=\"24px\">\n",
              "    <g>\n",
              "        <path d=\"M19 3H5c-1.1 0-2 .9-2 2v14c0 1.1.9 2 2 2h14c1.1 0 2-.9 2-2V5c0-1.1-.9-2-2-2zM9 17H7v-7h2v7zm4 0h-2V7h2v10zm4 0h-2v-4h2v4z\"/>\n",
              "    </g>\n",
              "</svg>\n",
              "  </button>\n",
              "\n",
              "<style>\n",
              "  .colab-df-quickchart {\n",
              "      --bg-color: #E8F0FE;\n",
              "      --fill-color: #1967D2;\n",
              "      --hover-bg-color: #E2EBFA;\n",
              "      --hover-fill-color: #174EA6;\n",
              "      --disabled-fill-color: #AAA;\n",
              "      --disabled-bg-color: #DDD;\n",
              "  }\n",
              "\n",
              "  [theme=dark] .colab-df-quickchart {\n",
              "      --bg-color: #3B4455;\n",
              "      --fill-color: #D2E3FC;\n",
              "      --hover-bg-color: #434B5C;\n",
              "      --hover-fill-color: #FFFFFF;\n",
              "      --disabled-bg-color: #3B4455;\n",
              "      --disabled-fill-color: #666;\n",
              "  }\n",
              "\n",
              "  .colab-df-quickchart {\n",
              "    background-color: var(--bg-color);\n",
              "    border: none;\n",
              "    border-radius: 50%;\n",
              "    cursor: pointer;\n",
              "    display: none;\n",
              "    fill: var(--fill-color);\n",
              "    height: 32px;\n",
              "    padding: 0;\n",
              "    width: 32px;\n",
              "  }\n",
              "\n",
              "  .colab-df-quickchart:hover {\n",
              "    background-color: var(--hover-bg-color);\n",
              "    box-shadow: 0 1px 2px rgba(60, 64, 67, 0.3), 0 1px 3px 1px rgba(60, 64, 67, 0.15);\n",
              "    fill: var(--button-hover-fill-color);\n",
              "  }\n",
              "\n",
              "  .colab-df-quickchart-complete:disabled,\n",
              "  .colab-df-quickchart-complete:disabled:hover {\n",
              "    background-color: var(--disabled-bg-color);\n",
              "    fill: var(--disabled-fill-color);\n",
              "    box-shadow: none;\n",
              "  }\n",
              "\n",
              "  .colab-df-spinner {\n",
              "    border: 2px solid var(--fill-color);\n",
              "    border-color: transparent;\n",
              "    border-bottom-color: var(--fill-color);\n",
              "    animation:\n",
              "      spin 1s steps(1) infinite;\n",
              "  }\n",
              "\n",
              "  @keyframes spin {\n",
              "    0% {\n",
              "      border-color: transparent;\n",
              "      border-bottom-color: var(--fill-color);\n",
              "      border-left-color: var(--fill-color);\n",
              "    }\n",
              "    20% {\n",
              "      border-color: transparent;\n",
              "      border-left-color: var(--fill-color);\n",
              "      border-top-color: var(--fill-color);\n",
              "    }\n",
              "    30% {\n",
              "      border-color: transparent;\n",
              "      border-left-color: var(--fill-color);\n",
              "      border-top-color: var(--fill-color);\n",
              "      border-right-color: var(--fill-color);\n",
              "    }\n",
              "    40% {\n",
              "      border-color: transparent;\n",
              "      border-right-color: var(--fill-color);\n",
              "      border-top-color: var(--fill-color);\n",
              "    }\n",
              "    60% {\n",
              "      border-color: transparent;\n",
              "      border-right-color: var(--fill-color);\n",
              "    }\n",
              "    80% {\n",
              "      border-color: transparent;\n",
              "      border-right-color: var(--fill-color);\n",
              "      border-bottom-color: var(--fill-color);\n",
              "    }\n",
              "    90% {\n",
              "      border-color: transparent;\n",
              "      border-bottom-color: var(--fill-color);\n",
              "    }\n",
              "  }\n",
              "</style>\n",
              "\n",
              "  <script>\n",
              "    async function quickchart(key) {\n",
              "      const quickchartButtonEl =\n",
              "        document.querySelector('#' + key + ' button');\n",
              "      quickchartButtonEl.disabled = true;  // To prevent multiple clicks.\n",
              "      quickchartButtonEl.classList.add('colab-df-spinner');\n",
              "      try {\n",
              "        const charts = await google.colab.kernel.invokeFunction(\n",
              "            'suggestCharts', [key], {});\n",
              "      } catch (error) {\n",
              "        console.error('Error during call to suggestCharts:', error);\n",
              "      }\n",
              "      quickchartButtonEl.classList.remove('colab-df-spinner');\n",
              "      quickchartButtonEl.classList.add('colab-df-quickchart-complete');\n",
              "    }\n",
              "    (() => {\n",
              "      let quickchartButtonEl =\n",
              "        document.querySelector('#df-db16ba96-865a-4b00-af9e-76dfa6057b34 button');\n",
              "      quickchartButtonEl.style.display =\n",
              "        google.colab.kernel.accessAllowed ? 'block' : 'none';\n",
              "    })();\n",
              "  </script>\n",
              "</div>\n",
              "\n",
              "  <div id=\"id_669c6bbd-d1a3-4e50-8634-599544b9b6cd\">\n",
              "    <style>\n",
              "      .colab-df-generate {\n",
              "        background-color: #E8F0FE;\n",
              "        border: none;\n",
              "        border-radius: 50%;\n",
              "        cursor: pointer;\n",
              "        display: none;\n",
              "        fill: #1967D2;\n",
              "        height: 32px;\n",
              "        padding: 0 0 0 0;\n",
              "        width: 32px;\n",
              "      }\n",
              "\n",
              "      .colab-df-generate:hover {\n",
              "        background-color: #E2EBFA;\n",
              "        box-shadow: 0px 1px 2px rgba(60, 64, 67, 0.3), 0px 1px 3px 1px rgba(60, 64, 67, 0.15);\n",
              "        fill: #174EA6;\n",
              "      }\n",
              "\n",
              "      [theme=dark] .colab-df-generate {\n",
              "        background-color: #3B4455;\n",
              "        fill: #D2E3FC;\n",
              "      }\n",
              "\n",
              "      [theme=dark] .colab-df-generate:hover {\n",
              "        background-color: #434B5C;\n",
              "        box-shadow: 0px 1px 3px 1px rgba(0, 0, 0, 0.15);\n",
              "        filter: drop-shadow(0px 1px 2px rgba(0, 0, 0, 0.3));\n",
              "        fill: #FFFFFF;\n",
              "      }\n",
              "    </style>\n",
              "    <button class=\"colab-df-generate\" onclick=\"generateWithVariable('df1')\"\n",
              "            title=\"Generate code using this dataframe.\"\n",
              "            style=\"display:none;\">\n",
              "\n",
              "  <svg xmlns=\"http://www.w3.org/2000/svg\" height=\"24px\"viewBox=\"0 0 24 24\"\n",
              "       width=\"24px\">\n",
              "    <path d=\"M7,19H8.4L18.45,9,17,7.55,7,17.6ZM5,21V16.75L18.45,3.32a2,2,0,0,1,2.83,0l1.4,1.43a1.91,1.91,0,0,1,.58,1.4,1.91,1.91,0,0,1-.58,1.4L9.25,21ZM18.45,9,17,7.55Zm-12,3A5.31,5.31,0,0,0,4.9,8.1,5.31,5.31,0,0,0,1,6.5,5.31,5.31,0,0,0,4.9,4.9,5.31,5.31,0,0,0,6.5,1,5.31,5.31,0,0,0,8.1,4.9,5.31,5.31,0,0,0,12,6.5,5.46,5.46,0,0,0,6.5,12Z\"/>\n",
              "  </svg>\n",
              "    </button>\n",
              "    <script>\n",
              "      (() => {\n",
              "      const buttonEl =\n",
              "        document.querySelector('#id_669c6bbd-d1a3-4e50-8634-599544b9b6cd button.colab-df-generate');\n",
              "      buttonEl.style.display =\n",
              "        google.colab.kernel.accessAllowed ? 'block' : 'none';\n",
              "\n",
              "      buttonEl.onclick = () => {\n",
              "        google.colab.notebook.generateWithVariable('df1');\n",
              "      }\n",
              "      })();\n",
              "    </script>\n",
              "  </div>\n",
              "\n",
              "    </div>\n",
              "  </div>\n"
            ],
            "application/vnd.google.colaboratory.intrinsic+json": {
              "type": "dataframe",
              "variable_name": "df1",
              "summary": "{\n  \"name\": \"df1\",\n  \"rows\": 244,\n  \"fields\": [\n    {\n      \"column\": \"total_bill\",\n      \"properties\": {\n        \"dtype\": \"number\",\n        \"std\": 8.902411954856856,\n        \"min\": 3.07,\n        \"max\": 50.81,\n        \"num_unique_values\": 229,\n        \"samples\": [\n          22.12,\n          20.23,\n          14.78\n        ],\n        \"semantic_type\": \"\",\n        \"description\": \"\"\n      }\n    },\n    {\n      \"column\": \"tip\",\n      \"properties\": {\n        \"dtype\": \"number\",\n        \"std\": 1.3836381890011826,\n        \"min\": 1.0,\n        \"max\": 10.0,\n        \"num_unique_values\": 123,\n        \"samples\": [\n          3.35,\n          1.5,\n          6.73\n        ],\n        \"semantic_type\": \"\",\n        \"description\": \"\"\n      }\n    }\n  ]\n}"
            }
          },
          "metadata": {},
          "execution_count": 64
        }
      ]
    },
    {
      "cell_type": "code",
      "source": [
        "#(i) Write a Python function that calculates their skewness.\n",
        "def calculate_skewness(data):\n",
        "    mean = np.mean(data)\n",
        "    std_dev = np.std(data)\n",
        "    skewness = (3 * (mean - np.median(data))) / std_dev\n",
        "    return skewness\n",
        "skewness=calculate_skewness(df1)\n",
        "skewness"
      ],
      "metadata": {
        "colab": {
          "base_uri": "https://localhost:8080/",
          "height": 201
        },
        "id": "6pshPlEs1vSe",
        "outputId": "211aaf47-bf90-480d-fbe5-11d5325a864e"
      },
      "execution_count": null,
      "outputs": [
        {
          "output_type": "stream",
          "name": "stderr",
          "text": [
            "/usr/local/lib/python3.10/dist-packages/numpy/core/fromnumeric.py:3643: FutureWarning: The behavior of DataFrame.std with axis=None is deprecated, in a future version this will reduce over both axes and return a scalar. To retain the old behavior, pass axis=0 (or do not pass axis)\n",
            "  return std(axis=axis, dtype=dtype, out=out, ddof=ddof, **kwargs)\n"
          ]
        },
        {
          "output_type": "execute_result",
          "data": {
            "text/plain": [
              "total_bill    1.398708\n",
              "tip           8.999372\n",
              "dtype: float64"
            ],
            "text/html": [
              "<div>\n",
              "<style scoped>\n",
              "    .dataframe tbody tr th:only-of-type {\n",
              "        vertical-align: middle;\n",
              "    }\n",
              "\n",
              "    .dataframe tbody tr th {\n",
              "        vertical-align: top;\n",
              "    }\n",
              "\n",
              "    .dataframe thead th {\n",
              "        text-align: right;\n",
              "    }\n",
              "</style>\n",
              "<table border=\"1\" class=\"dataframe\">\n",
              "  <thead>\n",
              "    <tr style=\"text-align: right;\">\n",
              "      <th></th>\n",
              "      <th>0</th>\n",
              "    </tr>\n",
              "  </thead>\n",
              "  <tbody>\n",
              "    <tr>\n",
              "      <th>total_bill</th>\n",
              "      <td>1.398708</td>\n",
              "    </tr>\n",
              "    <tr>\n",
              "      <th>tip</th>\n",
              "      <td>8.999372</td>\n",
              "    </tr>\n",
              "  </tbody>\n",
              "</table>\n",
              "</div><br><label><b>dtype:</b> float64</label>"
            ]
          },
          "metadata": {},
          "execution_count": 54
        }
      ]
    },
    {
      "cell_type": "code",
      "source": [
        "#(ii) Create a program that determines whether the columns exhibit positive skewness, negative skewness, or is approximately symmetric.\n",
        "import seaborn as sns\n",
        "import pandas as pd\n",
        "import numpy as np\n",
        "from scipy.stats import skew\n",
        "import matplotlib.pyplot as plt\n",
        "\n",
        "# Load the tips dataset\n",
        "df = sns.load_dataset('tips')\n",
        "\n",
        "# Function to check skewness and display results\n",
        "def check_skewness(df, columns):\n",
        "    skewness_results = {}\n",
        "\n",
        "    for column in columns:\n",
        "        col_skew = skew(df[column].dropna())\n",
        "\n",
        "        if col_skew > 0:\n",
        "            skewness_type = 'Positive skewness'\n",
        "        elif col_skew < 0:\n",
        "            skewness_type = 'Negative skewness'\n",
        "        else:\n",
        "            skewness_type = 'Symmetric'\n",
        "\n",
        "        skewness_results[column] = skewness_type\n",
        "        print(f'Column: {column}, Skewness: {col_skew:.2f}, Type: {skewness_type}')\n",
        "\n",
        "        # Plot distribution\n",
        "        plt.figure(figsize=(6, 4))\n",
        "        sns.histplot(df[column].dropna(), kde=True)\n",
        "        plt.title(f'{column} - {skewness_type} (Skewness: {col_skew:.2f})')\n",
        "        plt.xlabel(column)\n",
        "        plt.ylabel('Frequency')\n",
        "        plt.show()\n",
        "\n",
        "# Define the columns to check\n",
        "columns_to_check = ['total_bill', 'tip']\n",
        "\n",
        "# Check skewness for specified columns\n",
        "check_skewness(df, columns_to_check)\n"
      ],
      "metadata": {
        "colab": {
          "base_uri": "https://localhost:8080/",
          "height": 838
        },
        "id": "m4hlcMfA2WTz",
        "outputId": "ae85df88-248d-4003-e576-545adcdc47db"
      },
      "execution_count": null,
      "outputs": [
        {
          "output_type": "stream",
          "name": "stdout",
          "text": [
            "Column: total_bill, Skewness: 1.13, Type: Positive skewness\n"
          ]
        },
        {
          "output_type": "display_data",
          "data": {
            "text/plain": [
              "<Figure size 600x400 with 1 Axes>"
            ],
            "image/png": "[encoded data removed]"
          },
          "metadata": {}
        },
        {
          "output_type": "stream",
          "name": "stdout",
          "text": [
            "Column: tip, Skewness: 1.46, Type: Positive skewness\n"
          ]
        },
        {
          "output_type": "display_data",
          "data": {
            "text/plain": [
              "<Figure size 600x400 with 1 Axes>"
            ],
            "image/png": "[encoded data removed]"
          },
          "metadata": {}
        }
      ]
    },
    {
      "cell_type": "code",
      "source": [
        "#.(iii).Write a function that calculates the covariance between two columns.\n",
        "import seaborn as sns\n",
        "import numpy as np\n",
        "\n",
        "def calculate_covariance(seaborn_data):\n",
        "    df = sns.load_dataset(seaborn_data)\n",
        "    total_bill_column = df['total_bill']\n",
        "    tip_column = df['tip']\n",
        "\n",
        "    covariance = np.cov(total_bill_column, tip_column)[0, 1]\n",
        "\n",
        "    return covariance\n",
        "\n",
        "seaborn_data = 'tips'\n",
        "covariance_value = calculate_covariance(seaborn_data)\n",
        "print(\"Covariance between 'total_bill' and 'tip':\", covariance_value)\n",
        "\n",
        "\n",
        "\n"
      ],
      "metadata": {
        "colab": {
          "base_uri": "https://localhost:8080/"
        },
        "id": "_cKF7oda4NGO",
        "outputId": "6968542d-b03a-4557-c4e7-512c1e60ad8b"
      },
      "execution_count": null,
      "outputs": [
        {
          "output_type": "stream",
          "name": "stdout",
          "text": [
            "Covariance between 'total_bill' and 'tip': 8.323501629224854\n"
          ]
        }
      ]
    },
    {
      "cell_type": "code",
      "source": [
        "#(iv)Implement a Python program that calculates the Pearson correlation coefficient between two columns.\n",
        "import seaborn as sns\n",
        "import pandas as pd\n",
        "\n",
        "def calculate_pearson_correlation():\n",
        "    data = sns.load_dataset('tips')\n",
        "\n",
        "    correlation = data['total_bill'].corr(data['tip'], method='pearson')\n",
        "\n",
        "    return correlation\n",
        "\n",
        "pearson_corr = calculate_pearson_correlation()\n",
        "print(f\"Pearson Correlation between total_bill and tip: {pearson_corr}\")\n"
      ],
      "metadata": {
        "colab": {
          "base_uri": "https://localhost:8080/"
        },
        "id": "Uscg_nnZ4y8v",
        "outputId": "d11a579b-1ffa-4999-b6cb-4c77720e6668"
      },
      "execution_count": null,
      "outputs": [
        {
          "output_type": "stream",
          "name": "stdout",
          "text": [
            "Pearson Correlation between total_bill and tip: 0.6757341092113641\n"
          ]
        }
      ]
    },
    {
      "cell_type": "code",
      "source": [
        "#Write a script to visualize the correlation between two specific columns in a Pandas DataFrame usng scatter plots.\n",
        "\n",
        "import seaborn as sns\n",
        "import matplotlib.pyplot as plt\n",
        "\n",
        "def visualize_correlation():\n",
        "    data = sns.load_dataset('tips')\n",
        "\n",
        "    sns.scatterplot(x='total_bill', y='tip', data=data)\n",
        "\n",
        "    plt.title('Scatter Plot of Total Bill vs Tip')\n",
        "    plt.xlabel('Total Bill')\n",
        "    plt.ylabel('Tip')\n",
        "    plt.show()\n",
        "\n",
        "visualize_correlation()\n"
      ],
      "metadata": {
        "colab": {
          "base_uri": "https://localhost:8080/",
          "height": 472
        },
        "id": "4IAQl4lSO-3q",
        "outputId": "e0d78a52-dec5-4222-c149-0177378bf395"
      },
      "execution_count": null,
      "outputs": [
        {
          "output_type": "display_data",
          "data": {
            "text/plain": [
              "<Figure size 640x480 with 1 Axes>"
            ],
            "image/png": "[encoded data removed]"
          },
          "metadata": {}
        }
      ]
    },
    {
      "cell_type": "code",
      "source": [
        "#.Q.8. Write a Python function to calculate the probability densiti function (PDF) of a continuous random variable for a given normal distribution.\n",
        "import numpy as np\n",
        "from scipy.stats import norm\n",
        "\n",
        "def calculate_pdf(x, mu=0, sigma=1):\n",
        "    # Use scipy's norm.pdf to calculate the PDF\n",
        "    pdf_value = norm.pdf(x, loc=mu, scale=sigma)\n",
        "\n",
        "    return pdf_value\n",
        "\n",
        "# Example usage\n",
        "x = np.linspace(-5, 5, 100)  # Generate 100 points from -5 to 5\n",
        "pdf_values = calculate_pdf(x, mu=0, sigma=1)\n",
        "\n",
        "# Print PDF at a specific point\n",
        "print(f\"PDF at x = 0 for standard normal distribution: {calculate_pdf(0)}\")\n"
      ],
      "metadata": {
        "colab": {
          "base_uri": "https://localhost:8080/"
        },
        "id": "kT7Qt_7EPtyH",
        "outputId": "f57f0246-fdaa-406f-e45a-20438fc33d5b"
      },
      "execution_count": null,
      "outputs": [
        {
          "output_type": "stream",
          "name": "stdout",
          "text": [
            "PDF at x = 0 for standard normal distribution: 0.3989422804014327\n"
          ]
        }
      ]
    },
    {
      "cell_type": "code",
      "source": [
        "#.Q.9.) Create a program to calculate the cumulative distribution function (CDF) of exponential distribution.\n",
        "import numpy as np\n",
        "from scipy.stats import expon\n",
        "import matplotlib.pyplot as plt\n",
        "\n",
        "def calculate_cdf_exponential(x, rate=1):\n",
        "    scale = 1 / rate\n",
        "\n",
        "    cdf_value = expon.cdf(x, scale=scale)\n",
        "\n",
        "    return cdf_value\n",
        "\n",
        "x = np.linspace(0, 10, 100)  # Generate 100 points from 0 to 10\n",
        "rate = 0.5  # Example rate parameter\n",
        "cdf_values = calculate_cdf_exponential(x, rate)\n",
        "\n",
        "\n",
        "print(f\"CDF at x = 2 for exponential distribution with rate = {rate}: {calculate_cdf_exponential(2, rate)}\")\n"
      ],
      "metadata": {
        "colab": {
          "base_uri": "https://localhost:8080/"
        },
        "id": "gl4xxtHPQP87",
        "outputId": "a21dccd8-f88b-4e2d-ac60-bc8a6029c849"
      },
      "execution_count": null,
      "outputs": [
        {
          "output_type": "stream",
          "name": "stdout",
          "text": [
            "CDF at x = 2 for exponential distribution with rate = 0.5: 0.6321205588285577\n"
          ]
        }
      ]
    },
    {
      "cell_type": "code",
      "source": [
        "#.Q.10.Write a Python function to calculate the probability mass function (PMF) of Poisson distribution.\n",
        "from scipy.stats import poisson\n",
        "\n",
        "def calculate_pmf_poisson(k, rate):\n",
        "\n",
        "    # Use scipy's poisson.pmf to calculate the PMF\n",
        "    pmf_value = poisson.pmf(k, mu=rate)\n",
        "\n",
        "    return pmf_value\n",
        "\n",
        "# Example usage\n",
        "k = 5  # Number of occurrences\n",
        "rate = 3  # Average rate (lambda)\n",
        "pmf_value = calculate_pmf_poisson(k, rate)\n",
        "\n",
        "\n",
        "print(f\"PMF of Poisson distribution at k={k} with rate={rate}: {pmf_value}\")\n"
      ],
      "metadata": {
        "colab": {
          "base_uri": "https://localhost:8080/"
        },
        "id": "oanHaL3OQtc9",
        "outputId": "94935a29-4618-4334-fcc5-261d93e1b80e"
      },
      "execution_count": null,
      "outputs": [
        {
          "output_type": "stream",
          "name": "stdout",
          "text": [
            "PMF of Poisson distribution at k=5 with rate=3: 0.10081881344492458\n"
          ]
        }
      ]
    },
    {
      "cell_type": "code",
      "source": [
        "#.Q.11. A company wants to test iN a new website layout leads to a higher conversion rate (percentage oN visitors who make a purchase). They collect data Nrom the old and new layouts to compare.\n",
        "import numpy as np\n",
        "from statsmodels.stats.proportion import proportions_ztest\n",
        "\n",
        "# Data\n",
        "old_layout = np.array([1] * 50 + [0] * 950)\n",
        "new_layout = np.array([1] * 70 + [0] * 930)\n",
        "\n",
        "success_old = np.sum(old_layout)\n",
        "success_new = np.sum(new_layout)\n",
        "\n",
        "n_old = len(old_layout)\n",
        "n_new = len(new_layout)\n",
        "\n",
        "# Apply Z-test for proportions\n",
        "success_counts = np.array([success_old, success_new])\n",
        "n_visitors = np.array([n_old, n_new])\n",
        "z_stat, p_value = proportions_ztest(success_counts, n_visitors)\n",
        "\n",
        "print(f\"Z-statistic: {z_stat}\")\n",
        "print(f\"P-value: {p_value}\")\n",
        "\n",
        "alpha = 0.05\n",
        "if p_value < alpha:\n",
        "    print(\"Reject the null hypothesis. The new layout leads to a significantly different conversion rate.\")\n",
        "else:\n",
        "    print(\"Fail to reject the null hypothesis. No significant difference in conversion rates between the two layouts.\")\n"
      ],
      "metadata": {
        "colab": {
          "base_uri": "https://localhost:8080/"
        },
        "id": "QcTFOy5ORUfy",
        "outputId": "352bc87d-55b2-46af-f94e-f546430805f3"
      },
      "execution_count": null,
      "outputs": [
        {
          "output_type": "stream",
          "name": "stdout",
          "text": [
            "Z-statistic: -1.883108942886774\n",
            "P-value: 0.059685605532426224\n",
            "Fail to reject the null hypothesis. No significant difference in conversion rates between the two layouts.\n"
          ]
        }
      ]
    },
    {
      "cell_type": "code",
      "source": [
        "#.Q.12. A tutoring service claims that its program improves students' exam scores. A sample on students who participated in the program was taken, and their scores before and after the program were recorded.\n",
        "import numpy as np\n",
        "from scipy import stats\n",
        "\n",
        "before_program = np.array([75, 80, 85, 70, 90, 78, 92, 88, 82, 87])\n",
        "after_program = np.array([80, 85, 90, 80, 92, 80, 95, 90, 85, 88])\n",
        "\n",
        "differences = after_program - before_program\n",
        "\n",
        "mean_diff = np.mean(differences)\n",
        "std_diff = np.std(differences, ddof=1)\n",
        "n = len(differences)\n",
        "\n",
        "z_stat = mean_diff / (std_diff / np.sqrt(n))\n",
        "\n",
        "p_value = 1 - stats.norm.cdf(z_stat)\n",
        "\n",
        "print(f\"Z-statistic: {z_stat}\")\n",
        "print(f\"P-value: {p_value}\")\n",
        "\n",
        "alpha = 0.05\n",
        "if p_value < alpha:\n",
        "    print(\"Reject the null hypothesis. The tutoring program significantly improved the scores.\")\n",
        "else:\n",
        "    print(\"Fail to reject the null hypothesis. No significant improvement in scores after the program.\")\n"
      ],
      "metadata": {
        "colab": {
          "base_uri": "https://localhost:8080/"
        },
        "id": "_RTNoHGwSou-",
        "outputId": "6873b639-6366-4988-bb16-79bbcda4d6c7"
      },
      "execution_count": null,
      "outputs": [
        {
          "output_type": "stream",
          "name": "stdout",
          "text": [
            "Z-statistic: 4.593190894944668\n",
            "P-value: 2.182597052646784e-06\n",
            "Reject the null hypothesis. The tutoring program significantly improved the scores.\n"
          ]
        }
      ]
    },
    {
      "cell_type": "code",
      "source": [
        "#.Q.13.A pharmaceutical company wants to determine in a new drug is effective in reducing blood pressure. They conduct a study and record blood pressure measurements before and after administering the drug.\n",
        "import numpy as np\n",
        "from scipy import stats\n",
        "\n",
        "\n",
        "before_drug = np.array([145, 150, 140, 135, 155, 160, 152, 148, 130, 138])\n",
        "after_drug = np.array([130, 140, 132, 128, 145, 148, 138, 136, 125, 130])\n",
        "\n",
        "differences = after_drug - before_drug\n",
        "\n",
        "mean_diff = np.mean(differences)\n",
        "std_diff = np.std(differences, ddof=1)\n",
        "n = len(differences)\n",
        "\n",
        "z_stat = mean_diff / (std_diff / np.sqrt(n))\n",
        "\n",
        "p_value = stats.norm.cdf(z_stat)\n",
        "\n",
        "print(f\"Z-statistic: {z_stat}\")\n",
        "print(f\"P-value: {p_value}\")\n",
        "\n",
        "alpha = 0.05\n",
        "if p_value < alpha:\n",
        "    print(\"Reject the null hypothesis. The drug significantly reduces blood pressure.\")\n",
        "else:\n",
        "    print(\"Fail to reject the null hypothesis. No significant reduction in blood pressure after the drug.\")\n"
      ],
      "metadata": {
        "colab": {
          "base_uri": "https://localhost:8080/"
        },
        "id": "KMXqnD7bTjSe",
        "outputId": "9bd2a2f2-1e90-42c0-f44c-89b29aec1f90"
      },
      "execution_count": null,
      "outputs": [
        {
          "output_type": "stream",
          "name": "stdout",
          "text": [
            "Z-statistic: -10.049875621120888\n",
            "P-value: 4.599172203850193e-24\n",
            "Reject the null hypothesis. The drug significantly reduces blood pressure.\n"
          ]
        }
      ]
    },
    {
      "cell_type": "code",
      "source": [
        "#.Q.14.A customer service department clains that their average response time is less than 5 minutes. A sample of recent customer interactions was taken, and the response times were recorded.\n",
        "import numpy as np\n",
        "import scipy.stats as stats\n",
        "\n",
        "response_times = np.array([4.3, 3.8, 5.1, 4.9, 4.7, 4.2, 5.2, 4.5, 4.6, 4.4])\n",
        "\n",
        "sample_mean = np.mean(response_times)\n",
        "sample_std = np.std(response_times, ddof=1)\n",
        "n = len(response_times)\n",
        "\n",
        "mu_0 = 5.0\n",
        "\n",
        "z_score = (sample_mean - mu_0) / (sample_std / np.sqrt(n))\n",
        "\n",
        "alpha = 0.05\n",
        "critical_value = stats.norm.ppf(1 - alpha)\n",
        "\n",
        "if z_score < critical_value:\n",
        "    result = \"Reject the null hypothesis. The claim is supported.\"\n",
        "else:\n",
        "    result = \"Fail to reject the null hypothesis. The claim is not supported.\"\n",
        "sample_mean, sample_std, z_score, critical_value, result\n",
        "\n"
      ],
      "metadata": {
        "colab": {
          "base_uri": "https://localhost:8080/"
        },
        "id": "MNjOdWwqUurj",
        "outputId": "a9d62498-ebc5-4883-9fb3-f122096a6f28"
      },
      "execution_count": null,
      "outputs": [
        {
          "output_type": "execute_result",
          "data": {
            "text/plain": [
              "(4.57,\n",
              " 0.4270050741306634,\n",
              " -3.184457226042963,\n",
              " 1.6448536269514722,\n",
              " 'Reject the null hypothesis. The claim is supported.')"
            ]
          },
          "metadata": {},
          "execution_count": 10
        }
      ]
    },
    {
      "cell_type": "code",
      "source": [
        "#.Q.15.A company is testing two different website layouts to see which one leads to higher click-through rates.Write a Python function to perform an A/B test analysis, including calculating the t-statistic, degrees of freedom, and p-value.\n",
        "import numpy as np\n",
        "import scipy.stats as stats\n",
        "\n",
        "def ab_test(layout_a_clicks, layout_b_clicks):\n",
        "    mean_a = np.mean(layout_a_clicks)\n",
        "    mean_b = np.mean(layout_b_clicks)\n",
        "    std_a = np.std(layout_a_clicks, ddof=1)\n",
        "    std_b = np.std(layout_b_clicks, ddof=1)\n",
        "\n",
        "    n_a = len(layout_a_clicks)\n",
        "    n_b = len(layout_b_clicks)\n",
        "\n",
        "    t_statistic = (mean_a - mean_b) / np.sqrt((std_a**2 / n_a) + (std_b**2 / n_b))\n",
        "\n",
        "    df = n_a + n_b - 2\n",
        "\n",
        "    p_value = 2 * (1 - stats.t.cdf(abs(t_statistic), df))\n",
        "\n",
        "    return t_statistic, df, p_value\n",
        "\n",
        "layout_a_clicks = [28, 32, 33, 29, 31, 34, 30, 35, 36, 37]\n",
        "layout_b_clicks = [40, 41, 38, 42, 39, 44, 43, 41, 45, 47]\n",
        "\n",
        "t_stat, degrees_freedom, p_value = ab_test(layout_a_clicks, layout_b_clicks)\n",
        "t_stat, degrees_freedom, p_value\n"
      ],
      "metadata": {
        "colab": {
          "base_uri": "https://localhost:8080/"
        },
        "id": "KSfUtd37XfeX",
        "outputId": "3f1fdbb9-2f73-444d-f0f0-9c66dd684cbf"
      },
      "execution_count": null,
      "outputs": [
        {
          "output_type": "execute_result",
          "data": {
            "text/plain": [
              "(-7.298102156175071, 18, 8.833437608046779e-07)"
            ]
          },
          "metadata": {},
          "execution_count": 11
        }
      ]
    },
    {
      "cell_type": "code",
      "source": [
        "#.Q.16.2êU A pharmaceutical company wants to determine if a new drug is more effective than an existing drug in reducing cholesterol levels. Create a program to analyze the clinical trial data and calculate the ststatistic and p-value for the treat:ent effect.\n",
        "import numpy as np\n",
        "import scipy.stats as stats\n",
        "\n",
        "def analyze_clinical_trial(existing_drug_levels, new_drug_levels):\n",
        "    mean_existing = np.mean(existing_drug_levels)\n",
        "    mean_new = np.mean(new_drug_levels)\n",
        "    std_existing = np.std(existing_drug_levels, ddof=1)\n",
        "    std_new = np.std(new_drug_levels, ddof=1)\n",
        "\n",
        "    n_existing = len(existing_drug_levels)\n",
        "    n_new = len(new_drug_levels)\n",
        "\n",
        "    t_statistic = (mean_new - mean_existing) / np.sqrt((std_new**2 / n_new) + (std_existing**2 / n_existing))\n",
        "\n",
        "    df = n_existing + n_new - 2\n",
        "\n",
        "    p_value = 1 - stats.t.cdf(t_statistic, df)\n",
        "\n",
        "    return t_statistic, df, p_value\n",
        "\n",
        "existing_drug_levels = [180, 182, 175, 185, 178, 176, 172, 184, 179, 183]\n",
        "new_drug_levels = [170, 172, 165, 168, 175, 173, 170, 178, 172, 176]\n",
        "\n",
        "t_stat, degrees_freedom, p_value = analyze_clinical_trial(existing_drug_levels, new_drug_levels)\n",
        "\n",
        "t_stat, degrees_freedom, p_value"
      ],
      "metadata": {
        "colab": {
          "base_uri": "https://localhost:8080/"
        },
        "id": "6Kx-XPmFYkBP",
        "outputId": "2980a7ef-20d8-464b-e844-855e68f54a28"
      },
      "execution_count": null,
      "outputs": [
        {
          "output_type": "execute_result",
          "data": {
            "text/plain": [
              "(-4.140480986208661, 18, 0.9996928300778813)"
            ]
          },
          "metadata": {},
          "execution_count": 12
        }
      ]
    },
    {
      "cell_type": "code",
      "source": [
        "#.Q.17.A school district introduces an educational intervention program to improve math scores. Write a Python function to analyze pre-and post-intervention test scores, calculating the t-statistic and p-value to\n",
        "#determine if the intervention had a significant impact.\n",
        "import numpy as np\n",
        "import scipy.stats as stats\n",
        "\n",
        "def analyze_intervention(pre_scores, post_scores):\n",
        "\n",
        "    differences = np.array(post_scores) - np.array(pre_scores)\n",
        "\n",
        "    mean_difference = np.mean(differences)\n",
        "    std_difference = np.std(differences, ddof=1)\n",
        "\n",
        "    n = len(differences)\n",
        "\n",
        "    t_statistic = mean_difference / (std_difference / np.sqrt(n))\n",
        "\n",
        "    df = n - 1\n",
        "\n",
        "    p_value = 2 * (1 - stats.t.cdf(abs(t_statistic), df))\n",
        "\n",
        "    return t_statistic, df, p_value\n",
        "\n",
        "pre_intervention_scores = [80, 85, 90, 75, 88, 82, 92, 78, 85, 87]\n",
        "post_intervention_scores = [90, 92, 88, 92, 95, 91, 96, 93, 89, 93]\n",
        "\n",
        "t_stat, degrees_freedom, p_value = analyze_intervention(pre_intervention_scores, post_intervention_scores)\n",
        "\n",
        "t_stat, degrees_freedom, p_value\n"
      ],
      "metadata": {
        "colab": {
          "base_uri": "https://localhost:8080/"
        },
        "id": "oHV20wm9ZT0P",
        "outputId": "2b4976f8-3097-4166-8103-9b07b89e647e"
      },
      "execution_count": null,
      "outputs": [
        {
          "output_type": "execute_result",
          "data": {
            "text/plain": [
              "(4.428408839657611, 9, 0.0016509548165795085)"
            ]
          },
          "metadata": {},
          "execution_count": 14
        }
      ]
    },
    {
      "cell_type": "code",
      "source": [
        "#.Q.18.An HR department wants to investigate in there's a gender-based salary gap within the company. Develop a program to analyze salary data, calculate the t-statistic, and determine in there's a statistically\n",
        "#significant difference between the average salaries on male and female employees.\n",
        "import numpy as np\n",
        "import scipy.stats as stats\n",
        "\n",
        "np.random.seed(0)\n",
        "male_salaries = np.random.normal(loc=50000, scale=10000, size=20)\n",
        "female_salaries = np.random.normal(loc=55000, scale=9000, size=20)\n",
        "\n",
        "def analyze_salary_gap(male_salaries, female_salaries):\n",
        "    mean_male = np.mean(male_salaries)\n",
        "    mean_female = np.mean(female_salaries)\n",
        "    std_male = np.std(male_salaries, ddof=1)\n",
        "    std_female = np.std(female_salaries, ddof=1)\n",
        "\n",
        "    n_male = len(male_salaries)\n",
        "    n_female = len(female_salaries)\n",
        "\n",
        "    t_statistic = (mean_male - mean_female) / np.sqrt((std_male**2 / n_male) + (std_female**2 / n_female))\n",
        "\n",
        "    df = n_male + n_female - 2\n",
        "\n",
        "    p_value = 2 * (1 - stats.t.cdf(abs(t_statistic), df))\n",
        "\n",
        "    return t_statistic, df, p_value\n",
        "\n",
        "t_stat, degrees_freedom, p_value = analyze_salary_gap(male_salaries, female_salaries)\n",
        "\n",
        "t_stat, degrees_freedom, p_value\n",
        "\n"
      ],
      "metadata": {
        "colab": {
          "base_uri": "https://localhost:8080/"
        },
        "id": "VsWHMW3bZrrU",
        "outputId": "67857d8f-3e05-4af0-9e7b-1d4d3aa88dde"
      },
      "execution_count": null,
      "outputs": [
        {
          "output_type": "execute_result",
          "data": {
            "text/plain": [
              "(0.061142089696313844, 38, 0.9515665020676465)"
            ]
          },
          "metadata": {},
          "execution_count": 15
        }
      ]
    },
    {
      "cell_type": "code",
      "source": [
        "#.Q.19. A manufacturer produces two different versions of a product and wants to compare their quality scores.\n",
        "#Create a Python function to analyze quality assessment data, calculate the t-statistic, and decide\n",
        "#whether there's a significant difference in quality between the two versions.\n",
        "import numpy as np\n",
        "import scipy.stats as stats\n",
        "\n",
        "def analyze_quality_scores(version1_scores, version2_scores):\n",
        "    mean_version1 = np.mean(version1_scores)\n",
        "    mean_version2 = np.mean(version2_scores)\n",
        "    std_version1 = np.std(version1_scores, ddof=1)\n",
        "    std_version2 = np.std(version2_scores, ddof=1)\n",
        "\n",
        "    n_version1 = len(version1_scores)\n",
        "    n_version2 = len(version2_scores)\n",
        "\n",
        "    t_statistic = (mean_version1 - mean_version2) / np.sqrt((std_version1**2 / n_version1) + (std_version2**2 / n_version2))\n",
        "\n",
        "    df = n_version1 + n_version2 - 2\n",
        "\n",
        "    p_value = 2 * (1 - stats.t.cdf(abs(t_statistic), df))\n",
        "\n",
        "    return t_statistic, df, p_value\n",
        "\n",
        "version1_scores = [85, 87, 90, 88, 84, 86, 91, 89, 85, 87]\n",
        "version2_scores = [78, 80, 82, 76, 75, 79, 77, 81, 74, 78]\n",
        "\n",
        "\n",
        "t_stat, degrees_freedom, p_value = analyze_quality_scores(version1_scores, version2_scores)\n",
        "\n",
        "t_stat, degrees_freedom, p_value\n",
        "\n"
      ],
      "metadata": {
        "colab": {
          "base_uri": "https://localhost:8080/"
        },
        "id": "Tt3l7dAChLXY",
        "outputId": "50cbf606-91f4-4b17-aca6-1a971a335a90"
      },
      "execution_count": null,
      "outputs": [
        {
          "output_type": "execute_result",
          "data": {
            "text/plain": [
              "(8.414008499725758, 18, 1.185844287210358e-07)"
            ]
          },
          "metadata": {},
          "execution_count": 17
        }
      ]
    },
    {
      "cell_type": "code",
      "source": [
        "#.20. A restaurant chain collects customer satis@action scores for two different branches. Write a program to\n",
        "#analyze the scores, calculate the t-statistic, and determine if there's a statistically significant difference in\n",
        "#customer satisfaction between the branches.\n",
        "import numpy as np\n",
        "import scipy.stats as stats\n",
        "\n",
        "def analyze_customer_satisfaction(branch_a_scores, branch_b_scores):\n",
        "    mean_a = np.mean(branch_a_scores)\n",
        "    mean_b = np.mean(branch_b_scores)\n",
        "    std_a = np.std(branch_a_scores, ddof=1)\n",
        "    std_b = np.std(branch_b_scores, ddof=1)\n",
        "\n",
        "    n_a = len(branch_a_scores)\n",
        "    n_b = len(branch_b_scores)\n",
        "\n",
        "    t_statistic = (mean_a - mean_b) / np.sqrt((std_a**2 / n_a) + (std_b**2 / n_b))\n",
        "\n",
        "    df = n_a + n_b - 2\n",
        "\n",
        "    p_value = 2 * (1 - stats.t.cdf(abs(t_statistic), df))\n",
        "\n",
        "    return t_statistic, df, p_value\n",
        "\n",
        "branch_a_scores = [4, 5, 3, 4, 5, 4, 5, 3, 4, 4, 5, 4, 4, 3, 4, 5, 5, 4, 3, 4, 5, 4, 3, 5, 4, 4, 5, 3, 4, 5, 4]\n",
        "branch_b_scores = [3, 4, 2, 3, 4, 3, 4, 2, 3, 3, 4, 3, 3, 2, 3, 4, 4, 3, 2, 3, 4, 3, 2, 4, 3, 3, 4, 2, 3, 4, 3]\n",
        "\n",
        "t_stat, degrees_freedom, p_value = analyze_customer_satisfaction(branch_a_scores, branch_b_scores)\n",
        "t_stat, degrees_freedom, p_value\n",
        "\n"
      ],
      "metadata": {
        "colab": {
          "base_uri": "https://localhost:8080/"
        },
        "id": "LDtfOigShpFr",
        "outputId": "808fcc2f-dd49-4720-9b1d-4c7e5c0c8a09"
      },
      "execution_count": null,
      "outputs": [
        {
          "output_type": "execute_result",
          "data": {
            "text/plain": [
              "(5.480077554195743, 60, 8.895290508625919e-07)"
            ]
          },
          "metadata": {},
          "execution_count": 18
        }
      ]
    },
    {
      "cell_type": "code",
      "source": [
        "#.21. A political analyst wants to determine in there is a significant association between age groups and voter\n",
        "#preferences FCandidate A or Candidate B). They collect data from a sample of 500 voters and classify\n",
        "#them into different age groups and candidate preferences. Per@orm a Chi-Square test to determine if\n",
        "#there is a signi@icant association between age groups and voter preferences.\n",
        "import numpy as np\n",
        "import pandas as pd\n",
        "from scipy.stats import chi2_contingency\n",
        "\n",
        "np.random.seed(0)\n",
        "\n",
        "age_groups = np.random.choice(['18-30', '31-50', '51+'], size=500)\n",
        "voter_preferences = np.random.choice(['Candidate A', 'Candidate B'], size=500)\n",
        "\n",
        "data = pd.DataFrame({'Age Group': age_groups, 'Voter Preference': voter_preferences})\n",
        "\n",
        "contingency_table = pd.crosstab(data['Age Group'], data['Voter Preference'])\n",
        "\n",
        "chi2_stat, p_value, dof, expected = chi2_contingency(contingency_table)\n",
        "\n",
        "chi2_stat, p_value, dof, expected\n",
        "\n"
      ],
      "metadata": {
        "colab": {
          "base_uri": "https://localhost:8080/"
        },
        "id": "Lvdf1xCNigrx",
        "outputId": "a5c21a8c-6a9f-49c0-9cb8-10fe76140b44"
      },
      "execution_count": null,
      "outputs": [
        {
          "output_type": "execute_result",
          "data": {
            "text/plain": [
              "(0.8779923945254768,\n",
              " 0.6446832311860852,\n",
              " 2,\n",
              " array([[96.824, 85.176],\n",
              "        [89.908, 79.092],\n",
              "        [79.268, 69.732]]))"
            ]
          },
          "metadata": {},
          "execution_count": 19
        }
      ]
    },
    {
      "cell_type": "code",
      "source": [
        "#.22. 22. A company conducted a customer satisfaction survey to determine if there is a significant relationship\n",
        "#between product satisfaction levels (Satisfied, Neutral, Dissatisfied) and the region where customers are\n",
        "#located (East, West, North, South). The survey data is summarized in a contingency table. Conduct a ChiSquare test to determine if there is a significant relationship between product satisfaction levels and\n",
        "#customer regions.\n",
        "import numpy as np\n",
        "from scipy.stats import chi2_contingency\n",
        "\n",
        "data = np.array([[50, 30, 40, 20],\n",
        "                 [30, 40, 30, 50],\n",
        "                 [20, 30, 40, 30]])\n",
        "\n",
        "chi2_stat, p_value, dof, expected = chi2_contingency(data)\n",
        "\n",
        "chi2_stat, p_value, dof, expected\n",
        "\n"
      ],
      "metadata": {
        "colab": {
          "base_uri": "https://localhost:8080/"
        },
        "id": "YhK_LDSLjIBU",
        "outputId": "81871974-53fe-4f98-be42-4af59e41eadd"
      },
      "execution_count": null,
      "outputs": [
        {
          "output_type": "execute_result",
          "data": {
            "text/plain": [
              "(27.777056277056275,\n",
              " 0.00010349448486004387,\n",
              " 6,\n",
              " array([[34.14634146, 34.14634146, 37.56097561, 34.14634146],\n",
              "        [36.58536585, 36.58536585, 40.24390244, 36.58536585],\n",
              "        [29.26829268, 29.26829268, 32.19512195, 29.26829268]]))"
            ]
          },
          "metadata": {},
          "execution_count": 20
        }
      ]
    },
    {
      "cell_type": "code",
      "source": [
        "#23. A company implemented an employee training program to improve job performance (Effective, Neutral,\n",
        "#Ineffective). After the training, they collected data from a sample of employees and classified them based\n",
        "#on their job performance before and after the training. Perform a Chi-Square test to determine if there is a\n",
        "#significant difference between job performance levels before and after the training.\n",
        "\n",
        "import numpy as np\n",
        "from scipy.stats import chi2_contingency\n",
        "\n",
        "data = np.array([[50, 30, 20],\n",
        "                 [30, 40, 30],\n",
        "                 [20, 30, 40]])\n",
        "\n",
        "chi2_stat, p_value, dof, expected = chi2_contingency(data)\n",
        "\n",
        "chi2_stat, p_value, dof, expected\n"
      ],
      "metadata": {
        "colab": {
          "base_uri": "https://localhost:8080/"
        },
        "id": "FYv57X4tjo85",
        "outputId": "f5dc9ec4-8d2c-459c-831e-e5890d478703"
      },
      "execution_count": null,
      "outputs": [
        {
          "output_type": "execute_result",
          "data": {
            "text/plain": [
              "(22.161728395061726,\n",
              " 0.00018609719479882557,\n",
              " 4,\n",
              " array([[34.48275862, 34.48275862, 31.03448276],\n",
              "        [34.48275862, 34.48275862, 31.03448276],\n",
              "        [31.03448276, 31.03448276, 27.93103448]]))"
            ]
          },
          "metadata": {},
          "execution_count": 21
        }
      ]
    },
    {
      "cell_type": "code",
      "source": [
        "# 24. A company produces three different versions of a product: Standard, Premium, and Deluxe. The\n",
        "#company wants to determine if there is a significant difference in customer satisfaction scores among the\n",
        "#three product versions. They conducted a survey and collected customer satisfaction scores for each\n",
        "#version from a random sample of customers. Perform an ANOVA test to determine if there is a significant\n",
        "#difference in customer satisfaction scores.\n",
        "import numpy as np\n",
        "from scipy.stats import f_oneway\n",
        "\n",
        "standard_scores = [80, 85, 90, 78, 88, 82, 92, 78, 85, 87]\n",
        "premium_scores = [90, 92, 88, 92, 95, 91, 96, 93, 89, 93]\n",
        "deluxe_scores = [95, 98, 92, 97, 96, 94, 98, 97, 92, 99]\n",
        "\n",
        "f_statistic, p_value = f_oneway(standard_scores, premium_scores, deluxe_scores)\n",
        "f_statistic, p_value\n"
      ],
      "metadata": {
        "colab": {
          "base_uri": "https://localhost:8080/"
        },
        "id": "MBhhufE8kFaF",
        "outputId": "5d0e651b-b030-4096-d032-434c5fa487c6"
      },
      "execution_count": null,
      "outputs": [
        {
          "output_type": "execute_result",
          "data": {
            "text/plain": [
              "(27.03556231003039, 3.5786328857349003e-07)"
            ]
          },
          "metadata": {},
          "execution_count": 22
        }
      ]
    },
    {
      "cell_type": "code",
      "source": [],
      "metadata": {
        "id": "YaNL7NPHka4b"
      },
      "execution_count": null,
      "outputs": []
    }
  ]
}